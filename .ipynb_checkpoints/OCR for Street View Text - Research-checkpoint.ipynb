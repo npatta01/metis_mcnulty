{
 "cells": [
  {
   "cell_type": "markdown",
   "metadata": {},
   "source": [
    "# Optical Character Recognition In Python\n",
    "\n",
    "This is a study of a topic that's been addressed many times\n"
   ]
  },
  {
   "cell_type": "markdown",
   "metadata": {},
   "source": [
    "$\\S 1: \\bf{Object Recognition}$\n",
    "\n",
    "The first step is to figure out what English characters look like\n",
    "\n",
    "Part 1:\n",
    "1. Resize, grayscale, then binarize images\n",
    "2. Create \"nudged\" dataset that accounts for small variations in letter locations\n",
    "\n",
    "Part 2:\n",
    "1. Connected components/feature recognition\n",
    "2. Export character sub-pics as 20x20 blobs\n",
    "3. Feed these results into model from part 1 for prediction, real text output\n"
   ]
  },
  {
   "cell_type": "code",
   "execution_count": 1,
   "metadata": {
    "collapsed": false
   },
   "outputs": [
    {
     "ename": "ImportError",
     "evalue": "No module named seaborn",
     "output_type": "error",
     "traceback": [
      "\u001b[1;31m---------------------------------------------------------------------------\u001b[0m",
      "\u001b[1;31mImportError\u001b[0m                               Traceback (most recent call last)",
      "\u001b[1;32m<ipython-input-1-7821016f8169>\u001b[0m in \u001b[0;36m<module>\u001b[1;34m()\u001b[0m\n\u001b[0;32m     25\u001b[0m \u001b[1;31m# graphs\u001b[0m\u001b[1;33m\u001b[0m\u001b[1;33m\u001b[0m\u001b[0m\n\u001b[0;32m     26\u001b[0m \u001b[1;32mimport\u001b[0m \u001b[0mmatplotlib\u001b[0m\u001b[1;33m.\u001b[0m\u001b[0mpyplot\u001b[0m \u001b[1;32mas\u001b[0m \u001b[0mplt\u001b[0m\u001b[1;33m\u001b[0m\u001b[0m\n\u001b[1;32m---> 27\u001b[1;33m \u001b[1;32mimport\u001b[0m \u001b[0mseaborn\u001b[0m \u001b[1;32mas\u001b[0m \u001b[0msns\u001b[0m\u001b[1;33m\u001b[0m\u001b[0m\n\u001b[0m\u001b[0;32m     28\u001b[0m \u001b[0mget_ipython\u001b[0m\u001b[1;33m(\u001b[0m\u001b[1;33m)\u001b[0m\u001b[1;33m.\u001b[0m\u001b[0mmagic\u001b[0m\u001b[1;33m(\u001b[0m\u001b[1;34mu'matplotlib inline'\u001b[0m\u001b[1;33m)\u001b[0m\u001b[1;33m\u001b[0m\u001b[0m\n\u001b[0;32m     29\u001b[0m \u001b[1;33m\u001b[0m\u001b[0m\n",
      "\u001b[1;31mImportError\u001b[0m: No module named seaborn"
     ]
    }
   ],
   "source": [
    "# sklearn models\n",
    "from sklearn.neighbors import KNeighborsClassifier\n",
    "from sklearn.naive_bayes import GaussianNB\n",
    "from sklearn.svm import SVC\n",
    "from sklearn.svm import LinearSVC\n",
    "from sklearn.tree import DecisionTreeClassifier\n",
    "from sklearn.ensemble import RandomForestClassifier\n",
    "from sklearn import linear_model\n",
    "from sklearn.naive_bayes import BernoulliNB\n",
    "from sklearn.naive_bayes import MultinomialNB\n",
    "from sklearn.preprocessing import scale\n",
    "\n",
    "# sklearn metrics\n",
    "from sklearn.metrics import accuracy_score\n",
    "from sklearn.metrics import precision_score\n",
    "from sklearn.metrics import recall_score\n",
    "from sklearn.metrics import f1_score\n",
    "from sklearn.metrics import roc_curve \n",
    "from sklearn.metrics import auc\n",
    "from sklearn.metrics import classification_report\n",
    "from sklearn.learning_curve import learning_curve\n",
    "from sklearn.cross_validation import cross_val_score\n",
    "from sklearn.cross_validation import train_test_split\n",
    "\n",
    "# graphs\n",
    "import matplotlib.pyplot as plt\n",
    "import seaborn as sns\n",
    "%matplotlib inline\n",
    "\n",
    "# images\n",
    "from scipy.ndimage import convolve\n",
    "from skimage import data, io, segmentation, color\n",
    "from skimage.measure import regionprops\n",
    "from skimage import draw\n",
    "from skimage.filters import threshold_otsu\n",
    "from skimage.transform import resize \n",
    "from skimage.transform import warp \n",
    "from PIL import Image\n",
    "\n",
    "# basics\n",
    "import pandas as pd\n",
    "import numpy as np\n",
    "from pprint import pprint"
   ]
  },
  {
   "cell_type": "markdown",
   "metadata": {},
   "source": [
    "How to make a SQLite DB from a CSV"
   ]
  },
  {
   "cell_type": "code",
   "execution_count": 2,
   "metadata": {
    "collapsed": true
   },
   "outputs": [],
   "source": [
    "def show_img(img):\n",
    "    width = 10.0\n",
    "    height = img.shape[0]*width/img.shape[1]\n",
    "    f = plt.figure(figsize=(width, height))\n",
    "    plt.imshow(img)"
   ]
  },
  {
   "cell_type": "code",
   "execution_count": 3,
   "metadata": {
    "collapsed": false,
    "scrolled": true
   },
   "outputs": [],
   "source": [
    "import math\n",
    "import cv2\n",
    "\n",
    "def img_round(x, base=75):\n",
    "    \"\"\"\n",
    "    Now useless function (replaced by binarization) for flattening image data\n",
    "    \"\"\"\n",
    "    return (base * math.floor(float(x)/base))\n",
    "\n",
    "vround = np.vectorize(img_round) \n",
    "\n",
    "def get_img(i):\n",
    "    \"\"\"\n",
    "    Returns image from my file directory with corresponding index i\n",
    "    \"\"\"\n",
    "    img = Image.open('/users/derekjanni/pyocr/train/'+ str(i+1) + '.Bmp')\n",
    "    img = img.convert(\"L\")\n",
    "    img = img.resize((50,50))\n",
    "    image = np.asarray(img)\n",
    "    image.setflags(write=True)\n",
    "    thresh = threshold_otsu(image)\n",
    "    binary = image > thresh\n",
    "    return binary\n",
    "\n",
    "def nudge_dataset(X, Y):\n",
    "    \"\"\"\n",
    "    This produces a dataset 5 times bigger than the original one,\n",
    "    by moving the (50 x 50) images around by 1px to left, right, down, up\n",
    "    \"\"\"\n",
    "    direction_vectors = [\n",
    "        [[0, 1, 0],\n",
    "         [0, 0, 0],\n",
    "         [0, 0, 0]],\n",
    "\n",
    "        [[0, 0, 0],\n",
    "         [1, 0, 0],\n",
    "         [0, 0, 0]],\n",
    "\n",
    "        [[0, 0, 0],\n",
    "         [0, 0, 1],\n",
    "         [0, 0, 0]],\n",
    "\n",
    "        [[0, 0, 0],\n",
    "         [0, 0, 0],\n",
    "         [0, 1, 0]]]\n",
    "\n",
    "    shift = lambda x, w: convolve(x.reshape((50, 50)), mode='constant',\n",
    "                                  weights=w).ravel()\n",
    "    X = np.concatenate([X] +\n",
    "                       [np.apply_along_axis(shift, 1, X, vector)\n",
    "                        for vector in direction_vectors])\n",
    "    Y = np.concatenate([Y for _ in range(5)], axis=0)\n",
    "    return X, Y\n",
    "\n",
    "def show_img(img):\n",
    "    width = 10.0\n",
    "    height = img.shape[0]*width/img.shape[1]\n",
    "    f = plt.figure(figsize=(width, height))\n",
    "    plt.imshow(img)"
   ]
  },
  {
   "cell_type": "code",
   "execution_count": 6,
   "metadata": {
    "collapsed": true
   },
   "outputs": [],
   "source": [
    "# declare models for explicit-ness\n",
    "models = {'K-Nearest Neighbors': KNeighborsClassifier(n_neighbors=5), \n",
    "          'Gaussian Naive Bayes': GaussianNB(),\n",
    "          'Random Forest Classifier': RandomForestClassifier(),\n",
    "          'Bernoulli Naive Bayes': BernoulliNB(),\n",
    "          'Support Vector Machine': SVC()\n",
    "         }"
   ]
  },
  {
   "cell_type": "code",
   "execution_count": 7,
   "metadata": {
    "collapsed": false
   },
   "outputs": [],
   "source": [
    "df = pd.read_csv('trainLabels.csv', header=0)\n",
    "raw_y = np.asarray(df['Class'])\n",
    "raw_x = np.asarray([get_img(i) for i in df.index]).astype(float)"
   ]
  },
  {
   "cell_type": "code",
   "execution_count": 9,
   "metadata": {
    "collapsed": false
   },
   "outputs": [
    {
     "name": "stdout",
     "output_type": "stream",
     "text": [
      "(31415, 2500) (31415,)\n"
     ]
    }
   ],
   "source": [
    "x = np.asarray([i.ravel() for i in raw_x])\n",
    "y = raw_y\n",
    "x, y = nudge_dataset(x, y)\n",
    "print x.shape, y.shape"
   ]
  },
  {
   "cell_type": "code",
   "execution_count": 10,
   "metadata": {
    "collapsed": false
   },
   "outputs": [],
   "source": [
    "from sklearn.cross_validation import train_test_split\n",
    "X_train, X_test, Y_train, Y_test = train_test_split(x, y)"
   ]
  },
  {
   "cell_type": "code",
   "execution_count": 11,
   "metadata": {
    "collapsed": false
   },
   "outputs": [],
   "source": [
    "def precision_recall_by_class(model):\n",
    "    model.fit(X_train, Y_train)\n",
    "    Y_pred = model.predict(X_test)\n",
    "    return classification_report(Y_test, Y_pred)"
   ]
  },
  {
   "cell_type": "code",
   "execution_count": null,
   "metadata": {
    "collapsed": false
   },
   "outputs": [
    {
     "name": "stdout",
     "output_type": "stream",
     "text": [
      "K-Nearest Neighbors:\n",
      "             precision    recall  f1-score   support\n",
      "\n",
      "          0       0.81      0.84      0.83        90\n",
      "          1       0.87      0.95      0.91        83\n",
      "          2       1.00      0.97      0.98        67\n",
      "          3       0.96      0.96      0.96        50\n",
      "          4       0.98      1.00      0.99        41\n",
      "          5       0.93      0.96      0.95        56\n",
      "          6       0.96      1.00      0.98        50\n",
      "          7       0.94      0.91      0.92        33\n",
      "          8       0.96      0.87      0.92        31\n",
      "          9       1.00      0.97      0.99        35\n",
      "          A       0.97      0.99      0.98       581\n",
      "          B       0.96      0.95      0.96       106\n",
      "          C       0.90      0.96      0.92       225\n",
      "          D       0.90      0.89      0.90       199\n",
      "          E       0.96      0.95      0.95       474\n",
      "          F       0.86      0.93      0.90        92\n",
      "          G       0.98      0.94      0.96       162\n",
      "          H       0.95      0.93      0.94       192\n",
      "          I       0.84      0.94      0.89       335\n",
      "          J       0.80      0.91      0.85        70\n",
      "          K       0.94      0.98      0.96        90\n",
      "          L       0.94      0.99      0.97       216\n",
      "          M       0.98      0.97      0.98       152\n",
      "          N       0.96      0.98      0.97       326\n",
      "          O       0.86      0.93      0.89       334\n",
      "          P       0.91      0.97      0.94       149\n",
      "          Q       0.96      0.86      0.91        29\n",
      "          R       0.97      0.93      0.95       392\n",
      "          S       0.94      0.95      0.95       355\n",
      "          T       0.98      0.98      0.98       326\n",
      "          U       0.95      0.99      0.97       107\n",
      "          V       0.88      1.00      0.94        66\n",
      "          W       0.98      0.93      0.95        68\n",
      "          X       0.92      0.97      0.95        63\n",
      "          Y       0.98      0.94      0.96        65\n",
      "          Z       1.00      0.80      0.89        44\n",
      "          a       0.95      0.93      0.94       197\n",
      "          b       0.94      0.86      0.90        36\n",
      "          c       0.89      0.80      0.84        64\n",
      "          d       0.95      0.84      0.89        73\n",
      "          e       0.96      0.95      0.96       213\n",
      "          f       0.96      0.84      0.90        32\n",
      "          g       1.00      0.71      0.83        38\n",
      "          h       0.96      0.93      0.95        56\n",
      "          i       0.89      0.82      0.86       154\n",
      "          j       1.00      0.79      0.88        24\n",
      "          k       1.00      0.81      0.90        32\n",
      "          l       0.82      0.80      0.81       101\n",
      "          m       1.00      0.92      0.96        59\n",
      "          n       0.93      0.98      0.95       168\n",
      "          o       0.91      0.77      0.83       150\n",
      "          p       1.00      0.84      0.91        49\n",
      "          q       1.00      0.88      0.94        41\n",
      "          r       0.93      0.92      0.93       157\n",
      "          s       0.93      0.90      0.92       126\n",
      "          t       0.93      0.90      0.92       123\n",
      "          u       0.98      0.92      0.95        50\n",
      "          v       1.00      0.80      0.89        30\n",
      "          w       0.92      0.81      0.86        27\n",
      "          x       0.91      0.80      0.85        25\n",
      "          y       0.83      0.94      0.88        48\n",
      "          z       1.00      0.78      0.88        27\n",
      "\n",
      "avg / total       0.93      0.93      0.93      7854\n",
      "\n",
      "Bernoulli Naive Bayes:\n",
      "             precision    recall  f1-score   support\n",
      "\n",
      "          0       0.06      0.07      0.06        90\n",
      "          1       0.05      0.29      0.08        83\n",
      "          2       0.06      0.25      0.10        67\n",
      "          3       0.11      0.72      0.19        50\n",
      "          4       0.02      0.68      0.05        41\n",
      "          5       0.11      0.14      0.12        56\n",
      "          6       0.36      0.24      0.29        50\n",
      "          7       0.06      0.61      0.11        33\n",
      "          8       0.08      0.10      0.09        31\n",
      "          9       0.03      0.03      0.03        35\n",
      "          A       0.90      0.03      0.06       581\n",
      "          B       0.00      0.00      0.00       106\n",
      "          C       0.29      0.02      0.04       225\n",
      "          D       0.00      0.00      0.00       199\n",
      "          E       0.00      0.00      0.00       474\n",
      "          F       0.12      0.14      0.13        92\n",
      "          G       0.08      0.15      0.10       162\n",
      "          H       0.58      0.11      0.19       192\n",
      "          I       0.00      0.00      0.00       335\n",
      "          J       0.00      0.00      0.00        70\n",
      "          K       0.11      0.11      0.11        90\n",
      "          L       0.00      0.00      0.00       216\n",
      "          M       0.56      0.07      0.12       152\n",
      "          N       0.00      0.00      0.00       326\n",
      "          O       0.14      0.01      0.01       334\n",
      "          P       0.00      0.00      0.00       149\n",
      "          Q       0.00      0.00      0.00        29\n",
      "          R       0.92      0.12      0.22       392\n",
      "          S       0.68      0.17      0.27       355\n",
      "          T       0.73      0.02      0.05       326\n",
      "          U       0.20      0.21      0.20       107\n",
      "          V       0.20      0.02      0.03        66\n",
      "          W       0.10      0.28      0.15        68\n",
      "          X       0.00      0.00      0.00        63\n",
      "          Y       0.00      0.00      0.00        65\n",
      "          Z       0.33      0.07      0.11        44\n",
      "          a       0.32      0.06      0.10       197\n",
      "          b       0.04      0.39      0.08        36\n",
      "          c       0.15      0.20      0.17        64\n",
      "          d       0.00      0.00      0.00        73\n",
      "          e       0.23      0.12      0.16       213\n",
      "          f       0.00      0.00      0.00        32\n",
      "          g       0.03      0.03      0.03        38\n",
      "          h       0.06      0.54      0.10        56\n",
      "          i       0.14      0.06      0.09       154\n",
      "          j       0.01      0.04      0.02        24\n",
      "          k       0.02      0.44      0.05        32\n",
      "          l       0.00      0.00      0.00       101\n",
      "          m       0.26      0.14      0.18        59\n",
      "          n       0.17      0.01      0.01       168\n",
      "          o       0.33      0.01      0.01       150\n",
      "          p       0.00      0.00      0.00        49\n",
      "          q       0.00      0.00      0.00        41\n",
      "          r       0.20      0.01      0.02       157\n",
      "          s       0.00      0.00      0.00       126\n",
      "          t       0.00      0.00      0.00       123\n",
      "          u       0.10      0.02      0.03        50\n",
      "          v       0.75      0.10      0.18        30\n",
      "          w       0.00      0.00      0.00        27\n",
      "          x       0.01      0.48      0.01        25\n",
      "          y       0.00      0.00      0.00        48\n",
      "          z       0.00      0.00      0.00        27\n",
      "\n",
      "avg / total       0.27      0.07      0.07      7854\n"
     ]
    }
   ],
   "source": [
    "for i in models:\n",
    "    print i + ':\\n' + str(precision_recall_by_class(models[i]))"
   ]
  },
  {
   "cell_type": "code",
   "execution_count": 184,
   "metadata": {
    "collapsed": false
   },
   "outputs": [],
   "source": [
    "import datetime\n",
    "import pickle\n",
    "now = datetime.datetime.now()\n",
    "with open('imagesY'+ str(now)+'.pkl', 'w') as picklefile:\n",
    "    pickle.dump(y, picklefile)\n",
    "with open('imagesX'+ str(now)+'.pkl', 'w') as picklefile:\n",
    "    pickle.dump(x, picklefile)"
   ]
  },
  {
   "cell_type": "code",
   "execution_count": 104,
   "metadata": {
    "collapsed": false
   },
   "outputs": [],
   "source": [
    "# complicated label simplification \n",
    "from string import maketrans   # Required to call maketrans function.\n",
    "intab = \"CMOPSUVWXYZ\"\n",
    "outtab = \"cmopsuvwxyz\"\n",
    "trantab = maketrans(intab, outtab)\n",
    "simplified_y = np.asarray([i.translate(trantab) for i in y])"
   ]
  },
  {
   "cell_type": "code",
   "execution_count": 105,
   "metadata": {
    "collapsed": false
   },
   "outputs": [],
   "source": [
    "# declare models for explicit-ness\n",
    "models = {'K-Nearest Neighbors': KNeighborsClassifier(n_neighbors=5), \n",
    "          'Gaussian Naive Bayes': GaussianNB(),\n",
    "          'Random Forest Classifier': RandomForestClassifier(),\n",
    "          'Bernoulli Naive Bayes': BernoulliNB(),  \n",
    "         }"
   ]
  },
  {
   "cell_type": "code",
   "execution_count": 106,
   "metadata": {
    "collapsed": false
   },
   "outputs": [],
   "source": [
    "from sklearn.cross_validation import train_test_split\n",
    "X_train, X_test, Y_train, Y_test = train_test_split(x, simplified_y)"
   ]
  },
  {
   "cell_type": "code",
   "execution_count": null,
   "metadata": {
    "collapsed": false
   },
   "outputs": [],
   "source": [
    "for i in models:\n",
    "    print i + ':\\n' + str(precision_recall_by_class(models[i]))"
   ]
  },
  {
   "cell_type": "markdown",
   "metadata": {},
   "source": [
    "KNN is an interesting (and intuitive) solution to this problem. Lets see how the algorithm performs for varying K."
   ]
  },
  {
   "cell_type": "code",
   "execution_count": null,
   "metadata": {
    "collapsed": true
   },
   "outputs": [],
   "source": [
    "def accuracy_knn(k):\n",
    "    neighbors = KNeighborsClassifier(n_neighbors=k)\n",
    "    neighbors.fit(X_train, Y_train)\n",
    "    return accuracy_score(Y_test, neighbors.predict(X_test))\n",
    "\n",
    "k = [i for i in range(1, 10)]\n",
    "acc_knn = [accuracy_knn(i) for i in k]\n",
    "plt.figure(figsize=(10,7)).suptitle(\"Accuracy Score vs. K in KNN for OCR\", fontsize='15')\n",
    "plt.plot(k, acc_knn, label='K-Nearest Neighbors')"
   ]
  },
  {
   "cell_type": "markdown",
   "metadata": {},
   "source": [
    "This is the optimal model (sike, it's not but I'm gonna work on that)"
   ]
  },
  {
   "cell_type": "code",
   "execution_count": 122,
   "metadata": {
    "collapsed": true
   },
   "outputs": [],
   "source": [
    "model = KNeighborsClassifier(n_neighbors=5).fit(X_train, Y_train)\n",
    "for i in range(1, 10)"
   ]
  },
  {
   "cell_type": "code",
   "execution_count": 130,
   "metadata": {
    "collapsed": false,
    "scrolled": false
   },
   "outputs": [],
   "source": [
    "def get_test_img(i):\n",
    "    \"\"\"\n",
    "    Returns image from my file directory with corresponding index i\n",
    "    \"\"\"\n",
    "    img = Image.open('/users/derekjanni/pyocr/test/'+ str(i+6283) + '.Bmp')\n",
    "    img = img.convert(\"L\")\n",
    "    img = img.resize((50,50))\n",
    "    image = np.asarray(img)\n",
    "    image.setflags(write=True)\n",
    "    thresh = threshold_otsu(image)\n",
    "    binary = image > thresh\n",
    "    return binary\n"
   ]
  },
  {
   "cell_type": "code",
   "execution_count": null,
   "metadata": {
    "collapsed": true
   },
   "outputs": [],
   "source": [
    "with open('submission73115.csv', 'w') as outfile:\n",
    "for i in range(6284, 12503):\n",
    "    pre = model.predict(get_test_img(i).ravel()\n",
    "    outfile.write(i, pre)\n",
    "    input('')"
   ]
  }
 ],
 "metadata": {
  "kernelspec": {
   "display_name": "Python 2",
   "language": "python",
   "name": "python2"
  },
  "language_info": {
   "codemirror_mode": {
    "name": "ipython",
    "version": 2
   },
   "file_extension": ".py",
   "mimetype": "text/x-python",
   "name": "python",
   "nbconvert_exporter": "python",
   "pygments_lexer": "ipython2",
   "version": "2.7.10"
  }
 },
 "nbformat": 4,
 "nbformat_minor": 0
}
