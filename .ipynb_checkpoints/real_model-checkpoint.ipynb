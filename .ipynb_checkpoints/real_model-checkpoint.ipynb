{
 "cells": [
  {
   "cell_type": "code",
   "execution_count": 143,
   "metadata": {
    "collapsed": true
   },
   "outputs": [],
   "source": [
    "import cv2\n",
    "import numpy as np\n",
    "import os\n",
    "from sklearn.svm import LinearSVC\n",
    "from sklearn.externals import joblib\n",
    "from scipy.cluster.vq import *\n",
    "from sklearn.preprocessing import StandardScaler\n",
    "import glob\n",
    "import matplotlib.pyplot as plt\n",
    "import matplotlib.cm as cm\n",
    "import pandas as pd\n",
    "import mahotas\n",
    "import mahotas.features\n",
    "import milk\n",
    "from jug import TaskGenerator\n",
    "from skimage import data\n",
    "from skimage.feature import hog\n",
    "\n",
    "%matplotlib inline\n",
    "#from helper import *\n",
    "import helper\n",
    "from sklearn.pipeline import FeatureUnion, Pipeline\n",
    "from sklearn.cross_validation import StratifiedShuffleSplit\n",
    "from multiprocessing import Pool \n",
    "from functools import partial\n"
   ]
  },
  {
   "cell_type": "code",
   "execution_count": 118,
   "metadata": {
    "collapsed": true
   },
   "outputs": [],
   "source": [
    "# sklearn models\n",
    "from sklearn.neighbors import KNeighborsClassifier\n",
    "from sklearn.naive_bayes import GaussianNB\n",
    "from sklearn.svm import SVC\n",
    "from sklearn.svm import LinearSVC\n",
    "from sklearn.tree import DecisionTreeClassifier\n",
    "from sklearn.ensemble import RandomForestClassifier\n",
    "from sklearn import linear_model\n",
    "from sklearn.naive_bayes import BernoulliNB\n",
    "from sklearn.naive_bayes import MultinomialNB\n",
    "from sklearn.preprocessing import scale\n",
    "\n",
    "# sklearn metrics\n",
    "from sklearn.metrics import accuracy_score\n",
    "from sklearn.metrics import precision_score\n",
    "from sklearn.metrics import recall_score\n",
    "from sklearn.metrics import f1_score\n",
    "from sklearn.metrics import roc_curve \n",
    "from sklearn.metrics import auc\n",
    "from sklearn.metrics import classification_report\n",
    "from sklearn.learning_curve import learning_curve\n",
    "from sklearn.cross_validation import cross_val_score\n",
    "from sklearn.cross_validation import train_test_split"
   ]
  },
  {
   "cell_type": "code",
   "execution_count": 2,
   "metadata": {
    "collapsed": true
   },
   "outputs": [],
   "source": [
    "%load_ext autoreload\n",
    "%autoreload 2"
   ]
  },
  {
   "cell_type": "code",
   "execution_count": 3,
   "metadata": {
    "collapsed": true
   },
   "outputs": [],
   "source": [
    "train_folder= 'data/train'\n",
    "train_label='data/trainLabels.csv'"
   ]
  },
  {
   "cell_type": "code",
   "execution_count": 4,
   "metadata": {
    "collapsed": false
   },
   "outputs": [
    {
     "data": {
      "text/html": [
       "<div>\n",
       "<table border=\"1\" class=\"dataframe\">\n",
       "  <thead>\n",
       "    <tr style=\"text-align: right;\">\n",
       "      <th></th>\n",
       "      <th>id</th>\n",
       "      <th>label</th>\n",
       "      <th>filename</th>\n",
       "      <th>full_filename</th>\n",
       "    </tr>\n",
       "  </thead>\n",
       "  <tbody>\n",
       "    <tr>\n",
       "      <th>0</th>\n",
       "      <td>1</td>\n",
       "      <td>frog</td>\n",
       "      <td>1.png</td>\n",
       "      <td>data/train\\1.png</td>\n",
       "    </tr>\n",
       "    <tr>\n",
       "      <th>1</th>\n",
       "      <td>2</td>\n",
       "      <td>truck</td>\n",
       "      <td>2.png</td>\n",
       "      <td>data/train\\2.png</td>\n",
       "    </tr>\n",
       "    <tr>\n",
       "      <th>2</th>\n",
       "      <td>3</td>\n",
       "      <td>truck</td>\n",
       "      <td>3.png</td>\n",
       "      <td>data/train\\3.png</td>\n",
       "    </tr>\n",
       "    <tr>\n",
       "      <th>3</th>\n",
       "      <td>4</td>\n",
       "      <td>deer</td>\n",
       "      <td>4.png</td>\n",
       "      <td>data/train\\4.png</td>\n",
       "    </tr>\n",
       "    <tr>\n",
       "      <th>4</th>\n",
       "      <td>5</td>\n",
       "      <td>automobile</td>\n",
       "      <td>5.png</td>\n",
       "      <td>data/train\\5.png</td>\n",
       "    </tr>\n",
       "  </tbody>\n",
       "</table>\n",
       "</div>"
      ],
      "text/plain": [
       "  id       label filename     full_filename\n",
       "0  1        frog    1.png  data/train\\1.png\n",
       "1  2       truck    2.png  data/train\\2.png\n",
       "2  3       truck    3.png  data/train\\3.png\n",
       "3  4        deer    4.png  data/train\\4.png\n",
       "4  5  automobile    5.png  data/train\\5.png"
      ]
     },
     "execution_count": 4,
     "metadata": {},
     "output_type": "execute_result"
    }
   ],
   "source": [
    "all_train_df= helper.get_cifar_training_data(train_folder,train_label)\n",
    "all_train_df.head()"
   ]
  },
  {
   "cell_type": "code",
   "execution_count": 25,
   "metadata": {
    "collapsed": false
   },
   "outputs": [],
   "source": [
    "split_idxes=next(iter(StratifiedShuffleSplit(all_train_df['label'],n_iter =1,test_size=0.30,random_state=20)))\n",
    "train_index, test_index = split_idxes"
   ]
  },
  {
   "cell_type": "code",
   "execution_count": 16,
   "metadata": {
    "collapsed": false
   },
   "outputs": [],
   "source": [
    "features=all_train_df[['id','filename','full_filename']]\n",
    "labels=all_train_df['label']\n"
   ]
  },
  {
   "cell_type": "code",
   "execution_count": 37,
   "metadata": {
    "collapsed": false
   },
   "outputs": [],
   "source": [
    "train_img_gen=helper.load_images(features['full_filename'])"
   ]
  },
  {
   "cell_type": "code",
   "execution_count": 134,
   "metadata": {
    "collapsed": false
   },
   "outputs": [],
   "source": [
    "X_train_df,X_test_df,y_train,y_test= helper.get_stratified_train_test_split(\n",
    "    features,labels)"
   ]
  },
  {
   "cell_type": "code",
   "execution_count": 135,
   "metadata": {
    "collapsed": false
   },
   "outputs": [
    {
     "data": {
      "text/html": [
       "<div>\n",
       "<table border=\"1\" class=\"dataframe\">\n",
       "  <thead>\n",
       "    <tr style=\"text-align: right;\">\n",
       "      <th></th>\n",
       "      <th>id</th>\n",
       "      <th>filename</th>\n",
       "      <th>full_filename</th>\n",
       "    </tr>\n",
       "  </thead>\n",
       "  <tbody>\n",
       "    <tr>\n",
       "      <th>1401</th>\n",
       "      <td>1402</td>\n",
       "      <td>1402.png</td>\n",
       "      <td>data/train\\1402.png</td>\n",
       "    </tr>\n",
       "    <tr>\n",
       "      <th>168</th>\n",
       "      <td>169</td>\n",
       "      <td>169.png</td>\n",
       "      <td>data/train\\169.png</td>\n",
       "    </tr>\n",
       "    <tr>\n",
       "      <th>46471</th>\n",
       "      <td>46472</td>\n",
       "      <td>46472.png</td>\n",
       "      <td>data/train\\46472.png</td>\n",
       "    </tr>\n",
       "    <tr>\n",
       "      <th>37950</th>\n",
       "      <td>37951</td>\n",
       "      <td>37951.png</td>\n",
       "      <td>data/train\\37951.png</td>\n",
       "    </tr>\n",
       "    <tr>\n",
       "      <th>26285</th>\n",
       "      <td>26286</td>\n",
       "      <td>26286.png</td>\n",
       "      <td>data/train\\26286.png</td>\n",
       "    </tr>\n",
       "  </tbody>\n",
       "</table>\n",
       "</div>"
      ],
      "text/plain": [
       "          id   filename         full_filename\n",
       "1401    1402   1402.png   data/train\\1402.png\n",
       "168      169    169.png    data/train\\169.png\n",
       "46471  46472  46472.png  data/train\\46472.png\n",
       "37950  37951  37951.png  data/train\\37951.png\n",
       "26285  26286  26286.png  data/train\\26286.png"
      ]
     },
     "execution_count": 135,
     "metadata": {},
     "output_type": "execute_result"
    }
   ],
   "source": [
    "X_train_df.head()"
   ]
  },
  {
   "cell_type": "code",
   "execution_count": 136,
   "metadata": {
    "collapsed": false
   },
   "outputs": [
    {
     "data": {
      "text/html": [
       "<div>\n",
       "<table border=\"1\" class=\"dataframe\">\n",
       "  <thead>\n",
       "    <tr style=\"text-align: right;\">\n",
       "      <th></th>\n",
       "      <th>id</th>\n",
       "      <th>filename</th>\n",
       "      <th>full_filename</th>\n",
       "    </tr>\n",
       "  </thead>\n",
       "  <tbody>\n",
       "    <tr>\n",
       "      <th>39264</th>\n",
       "      <td>39265</td>\n",
       "      <td>39265.png</td>\n",
       "      <td>data/train\\39265.png</td>\n",
       "    </tr>\n",
       "    <tr>\n",
       "      <th>18869</th>\n",
       "      <td>18870</td>\n",
       "      <td>18870.png</td>\n",
       "      <td>data/train\\18870.png</td>\n",
       "    </tr>\n",
       "    <tr>\n",
       "      <th>11313</th>\n",
       "      <td>11314</td>\n",
       "      <td>11314.png</td>\n",
       "      <td>data/train\\11314.png</td>\n",
       "    </tr>\n",
       "    <tr>\n",
       "      <th>26085</th>\n",
       "      <td>26086</td>\n",
       "      <td>26086.png</td>\n",
       "      <td>data/train\\26086.png</td>\n",
       "    </tr>\n",
       "    <tr>\n",
       "      <th>22976</th>\n",
       "      <td>22977</td>\n",
       "      <td>22977.png</td>\n",
       "      <td>data/train\\22977.png</td>\n",
       "    </tr>\n",
       "  </tbody>\n",
       "</table>\n",
       "</div>"
      ],
      "text/plain": [
       "          id   filename         full_filename\n",
       "39264  39265  39265.png  data/train\\39265.png\n",
       "18869  18870  18870.png  data/train\\18870.png\n",
       "11313  11314  11314.png  data/train\\11314.png\n",
       "26085  26086  26086.png  data/train\\26086.png\n",
       "22976  22977  22977.png  data/train\\22977.png"
      ]
     },
     "execution_count": 136,
     "metadata": {},
     "output_type": "execute_result"
    }
   ],
   "source": [
    "X_test_df.head()"
   ]
  },
  {
   "cell_type": "code",
   "execution_count": 137,
   "metadata": {
    "collapsed": true
   },
   "outputs": [],
   "source": [
    "cch_1= helper.ColorChannelStatistics(sub_regions=1)\n",
    "cch_2= helper.ColorChannelStatistics(sub_regions=2)\n",
    "cch_4= helper.ColorChannelStatistics(sub_regions=4)\n",
    "\n",
    "cc_pipeline = FeatureUnion([(\"cch_1\", cch_1),(\"cch_2\", cch_2),(\"cch_4\", cch_4)])\n",
    "hog_pipeline= Pipeline([(\"gt\", helper.GrayScaleImageTransform())\n",
    "                        ,(\"ht\", helper.HogStatistics())])"
   ]
  },
  {
   "cell_type": "code",
   "execution_count": 144,
   "metadata": {
    "collapsed": false
   },
   "outputs": [],
   "source": [
    "train_img_gen=helper.load_images(X_train_df['full_filename'])\n",
    "test_img_gen=helper.load_images(X_test_df['full_filename'])\n"
   ]
  },
  {
   "cell_type": "code",
   "execution_count": 145,
   "metadata": {
    "collapsed": false
   },
   "outputs": [],
   "source": [
    "feature_extractors=[cc_pipeline,hog_pipeline]\n",
    "#X_train=helper.extract_image_features(train_img_gen,feature_extractors)\n",
    "#X_test=helper.extract_image_features(test_img_gen,feature_extractors)\n"
   ]
  },
  {
   "cell_type": "code",
   "execution_count": null,
   "metadata": {
    "collapsed": false
   },
   "outputs": [],
   "source": [
    "helper.extract_multiple_image_features(feature_extractors,X_train_df['full_filename'].head())"
   ]
  },
  {
   "cell_type": "code",
   "execution_count": 116,
   "metadata": {
    "collapsed": false
   },
   "outputs": [
    {
     "data": {
      "text/plain": [
       "10"
      ]
     },
     "execution_count": 116,
     "metadata": {},
     "output_type": "execute_result"
    }
   ],
   "source": [
    "len(feature_matrix)"
   ]
  },
  {
   "cell_type": "code",
   "execution_count": 108,
   "metadata": {
    "collapsed": false
   },
   "outputs": [
    {
     "data": {
      "text/plain": [
       "array([[  6.40371094e+01,   4.08469489e+01,   1.05099609e+02,\n",
       "          4.24293742e+01,   1.41205078e+02,   4.06636707e+01,\n",
       "          5.06328125e+01,   3.12053108e+01,   6.39179688e+01,\n",
       "          3.97703013e+01,   7.59375000e+01,   4.37416510e+01,\n",
       "          6.56601562e+01,   4.33724528e+01,   8.48242188e+01,\n",
       "          3.57353056e+01,   9.87812500e+01,   4.35035806e+01,\n",
       "          1.22632812e+02,   3.90471212e+01,   1.14160156e+02,\n",
       "          4.08195550e+01,   1.21132812e+02,   3.96217213e+01,\n",
       "          1.37085938e+02,   4.14507478e+01,   1.62152344e+02,\n",
       "          3.29401125e+01,   1.44449219e+02,   3.70386907e+01,\n",
       "          3.62656250e+01,   1.61586298e+01,   1.01921875e+02,\n",
       "          5.56738001e+01,   4.98906250e+01,   4.02616898e+01,\n",
       "          5.11093750e+01,   2.36531692e+01,   7.04843750e+01,\n",
       "          2.75323629e+01,   5.43906250e+01,   1.46358050e+01,\n",
       "          5.64375000e+01,   2.85349977e+01,   4.31406250e+01,\n",
       "          1.84008043e+01,   4.86875000e+01,   1.81175631e+01,\n",
       "          5.20781250e+01,   2.38997285e+01,   5.87656250e+01,\n",
       "          1.86168121e+01,   6.43593750e+01,   4.93122599e+01,\n",
       "          9.81718750e+01,   5.71889835e+01,   5.67343750e+01,\n",
       "          2.36558939e+01,   6.29218750e+01,   3.50010289e+01,\n",
       "          1.19234375e+02,   4.91991305e+01,   6.67031250e+01,\n",
       "          2.53344378e+01,   1.41515625e+02,   4.75588426e+01,\n",
       "          1.18281250e+02,   3.49952982e+01,   1.25281250e+02,\n",
       "          3.06112054e+01,   1.11062500e+02,   2.54539259e+01,\n",
       "          9.46250000e+01,   1.40306584e+01,   1.02218750e+02,\n",
       "          4.11344855e+01,   7.78281250e+01,   1.97060862e+01,\n",
       "          8.00781250e+01,   2.11159779e+01,   8.38281250e+01,\n",
       "          2.53275756e+01,   9.27500000e+01,   2.17399402e+01,\n",
       "          1.02015625e+02,   5.35684411e+01,   1.36062500e+02,\n",
       "          6.29389275e+01,   9.51562500e+01,   2.33480585e+01,\n",
       "          9.97031250e+01,   3.24194577e+01,   1.54484375e+02,\n",
       "          4.22085567e+01,   9.97500000e+01,   3.79699717e+01,\n",
       "          1.70093750e+02,   3.73244720e+01,   1.38328125e+02,\n",
       "          3.26597299e+01,   1.67625000e+02,   2.70326770e+01,\n",
       "          1.52812500e+02,   2.12300458e+01,   1.37953125e+02,\n",
       "          1.63003352e+01,   1.31421875e+02,   4.30692773e+01,\n",
       "          1.13984375e+02,   2.13969129e+01,   1.17562500e+02,\n",
       "          2.58474340e+01,   1.19812500e+02,   2.77791935e+01,\n",
       "          1.28843750e+02,   2.41991856e+01,   1.41953125e+02,\n",
       "          5.28498550e+01,   1.76593750e+02,   5.29468244e+01,\n",
       "          1.34375000e+02,   1.95388235e+01,   1.39484375e+02,\n",
       "          2.79189632e+01,   1.88687500e+02,   3.23128627e+01,\n",
       "          9.20075358e-03,   8.48383008e-03,   1.40578005e-02,\n",
       "          7.12040426e-03,   1.00972306e-02,   3.12215289e-03,\n",
       "          1.71468965e-03,   1.42711565e-03,   5.27986912e-03,\n",
       "          4.96097480e-03,   8.67674106e-03,   1.03038892e-02,\n",
       "          1.04362559e-02,   1.16319591e-02,   2.44532444e-03,\n",
       "          3.82314700e-03,   1.94236538e-03,   6.73902495e-03,\n",
       "          3.39940083e-03,   6.25891407e-03,   2.55981580e-03,\n",
       "          9.94129902e-03,   1.02151958e-02,   1.65263379e-02,\n",
       "          4.54684293e-03,   1.12776809e-02,   7.21577777e-03,\n",
       "          1.02496003e-02,   6.53933341e-03,   8.09347336e-03,\n",
       "          5.64040278e-03,   8.43429121e-03,   4.73260510e-03,\n",
       "          3.81317706e-03,   2.47746338e-03,   5.53139701e-03,\n",
       "          2.13011880e-02,   3.90507713e-02,   3.12573385e-02,\n",
       "          3.07116728e-02,   1.99137753e-02,   9.39320593e-03,\n",
       "          1.00038282e-03,   6.30445736e-03,   7.05926819e-03,\n",
       "          2.28198050e-03,   1.20472749e-18,   5.09634351e-03,\n",
       "          1.78094269e-02,   4.45985804e-02,   3.85602374e-02,\n",
       "          1.92956213e-02,   7.49400193e-03,   1.40427526e-02,\n",
       "          1.60091770e-02,   1.85115285e-02,   2.86501106e-02,\n",
       "         -3.01181874e-19,   7.96703929e-03,   1.25812605e-02,\n",
       "          6.45290418e-03,   3.92989654e-03,   1.06670776e-02,\n",
       "          3.21433623e-02,   4.62211200e-02,   3.40685068e-02,\n",
       "          1.76880537e-02,   9.85685437e-03,   6.52267469e-03,\n",
       "          8.60357232e-03,   2.85251657e-02,   6.56218465e-03,\n",
       "          4.19743217e-03,   1.03864700e-02,   1.10999351e-02,\n",
       "          3.95074031e-02,   2.33245013e-02,   1.53817877e-02,\n",
       "          1.00684719e-02,   2.48814774e-02,   2.10449108e-03,\n",
       "          4.79491184e-03,   8.38629708e-03,   9.95897830e-03,\n",
       "          1.00869142e-02,   1.12425925e-02,   2.36347000e-03,\n",
       "          3.69517153e-03,   1.87734692e-03,   6.51344380e-03,\n",
       "          3.28560978e-03,   6.04940409e-03,   2.47412889e-03,\n",
       "          9.60852541e-03,   9.87325385e-03,   1.59731377e-02,\n",
       "          4.39464257e-03,   1.09001735e-02,   6.97423787e-03,\n",
       "          6.82344607e-03,   1.14785508e-03,   3.33085957e-03,\n",
       "          8.70420427e-03,   2.14326858e-02,   9.42656265e-03,\n",
       "          3.26216891e-03,   9.19944435e-03,   5.07468394e-03,\n",
       "          2.05881551e-02,   3.77435914e-02,   3.02110348e-02,\n",
       "          2.96836347e-02,   1.92471844e-02,   9.07877911e-03,\n",
       "          9.66896149e-04,   6.09342286e-03,   6.82296727e-03,\n",
       "          2.20559381e-03,   1.16440062e-18,   4.92574924e-03,\n",
       "          1.72132767e-02,   4.31056939e-02,   3.72694776e-02,\n",
       "          1.86497224e-02,   7.24314879e-03,   1.35726875e-02,\n",
       "          5.15973639e-03,   2.44195698e-03,   1.13741025e-03,\n",
       "          9.16088086e-05,   7.05837153e-03,   9.20949958e-03,\n",
       "          7.70666136e-03,   6.02485285e-03,   1.89470820e-02,\n",
       "          3.10674000e-02,   4.46739209e-02,   3.29281025e-02,\n",
       "          1.70959663e-02,   9.52690745e-03,   6.30433562e-03,\n",
       "          8.31557758e-03,   2.75703184e-02,   6.34252303e-03,\n",
       "          4.05692793e-03,   1.00387948e-02,   1.07283775e-02,\n",
       "          3.81849379e-02,   2.25437403e-02,   1.48669000e-02,\n",
       "          9.73144128e-03,   2.40485984e-02,   2.03404565e-03,\n",
       "          4.34918277e-02,   9.89335673e-03,   7.84965190e-03,\n",
       "          1.10839370e-02,   2.35352687e-02,   5.40978681e-03,\n",
       "          5.04980207e-03,   6.99847954e-03,   7.37672795e-03,\n",
       "          1.01087540e-02,   6.44947227e-03,   7.98225580e-03,\n",
       "          5.56289442e-03,   8.31839026e-03,   4.66757137e-03,\n",
       "          3.76077777e-03,   2.44341898e-03,   5.45538657e-03,\n",
       "          2.10084748e-02,   3.85141498e-02,   3.08278115e-02,\n",
       "          3.02896442e-02,   1.96401274e-02,   9.26412792e-03,\n",
       "          9.86635923e-04,   6.21782380e-03,   6.96226230e-03,\n",
       "          2.25062235e-03,   1.18817257e-18,   5.02631141e-03,\n",
       "          1.75646962e-02,   4.39857229e-02,   3.80303567e-02,\n",
       "          1.90304679e-02,   7.39102209e-03,   1.38497822e-02,\n",
       "          1.57891847e-02,   1.82571498e-02,   2.82564112e-02,\n",
       "         -2.97043142e-19,   7.85755913e-03,   1.24083734e-02,\n",
       "          6.36423072e-03,   3.87589334e-03,   1.05204945e-02,\n",
       "          3.17016599e-02,   4.55859662e-02,   3.36003498e-02,\n",
       "          1.74449909e-02,   9.72140507e-03,   6.43304247e-03,\n",
       "          8.48534517e-03,   2.81331832e-02,   6.47200950e-03,\n",
       "          4.13975259e-03,   1.02437429e-02,   1.09474038e-02,\n",
       "          3.89645067e-02,   2.30039845e-02,   1.51704168e-02,\n",
       "          9.93011458e-03,   2.45395652e-02,   2.07557193e-03,\n",
       "          7.97478768e-03,   3.84331090e-03,   9.75950020e-04,\n",
       "          1.44616864e-03,   1.11608377e-02,   1.70869180e-02,\n",
       "          9.25321440e-03,   1.07220719e-02,   5.26317885e-03,\n",
       "          7.47147625e-03,   3.06409664e-03,   7.70263009e-03,\n",
       "          1.21270463e-02,   1.87088074e-02,   1.14135254e-02,\n",
       "          1.04078379e-02,   3.22094225e-03,   4.05181262e-03,\n",
       "          8.31992763e-03,   6.46996610e-03,   3.73076420e-03,\n",
       "          8.92243597e-03,   1.98142725e-03,   4.80743017e-03,\n",
       "          1.25709345e-02,   5.35841376e-03,   6.43281828e-03,\n",
       "          1.90880911e-02,   3.49935731e-02,   2.80098426e-02,\n",
       "          2.75208692e-02,   1.78448243e-02,   8.41729440e-03,\n",
       "          8.96447577e-04,   5.64945281e-03,   6.32584222e-03,\n",
       "          2.04489307e-03,   1.07956177e-18,   4.56685651e-03,\n",
       "          1.59591081e-02,   3.99649900e-02,   3.45540035e-02,\n",
       "          1.72908937e-02,   6.71540909e-03,   1.25837742e-02,\n",
       "          4.78379524e-03,   2.26403469e-03,   1.05453793e-03,\n",
       "          8.49341417e-05,   6.54409480e-03,   8.53849051e-03,\n",
       "          7.14514989e-03,   5.58587885e-03,   1.75665875e-02,\n",
       "          2.88038126e-02,   4.14189551e-02,   3.05289434e-02,\n",
       "          1.58503450e-02,   8.83277187e-03,   5.84499835e-03,\n",
       "          7.70970015e-03,   2.55615302e-02,   5.88040340e-03,\n",
       "          3.76133799e-03,   9.30736279e-03,   9.94670213e-03,\n",
       "          3.54027629e-02,   2.09011913e-02,   1.37836897e-02,\n",
       "          9.02240326e-03,   2.22964047e-02,   1.88584399e-03,\n",
       "          4.03229898e-02,   9.17252146e-03,   7.27772206e-03,\n",
       "          1.02763554e-02,   2.18204764e-02,   5.01562685e-03,\n",
       "          4.68187079e-03,   6.48856657e-03,   6.83925560e-03,\n",
       "          6.78850894e-03,   2.78400771e-03,   6.99853302e-03,\n",
       "          1.10185135e-02,   1.69986362e-02,   1.03702156e-02,\n",
       "          9.45645794e-03,   2.92651606e-03,   3.68143661e-03,\n",
       "          7.55940342e-03,   5.87854679e-03,   3.38973521e-03,\n",
       "          8.10683650e-03,   1.80030507e-03,   4.36798320e-03,\n",
       "          1.14218259e-02,   4.86860140e-03,   5.84479465e-03,\n",
       "          2.53474616e-02,   2.16330448e-02,   3.31166269e-02,\n",
       "          2.48044813e-03,   1.36746078e-02,   5.72701140e-03,\n",
       "          1.27281884e-02,   8.04345216e-03,   8.36008832e-03]])"
      ]
     },
     "execution_count": 108,
     "metadata": {},
     "output_type": "execute_result"
    }
   ],
   "source": [
    "feature_matrix[0]"
   ]
  },
  {
   "cell_type": "code",
   "execution_count": 119,
   "metadata": {
    "collapsed": false
   },
   "outputs": [],
   "source": [
    "models = {'K-Nearest Neighbors': KNeighborsClassifier(n_neighbors=5), \n",
    "          'Gaussian Naive Bayes': GaussianNB(),\n",
    "          'Random Forest Classifier': RandomForestClassifier(),\n",
    "          'Bernoulli Naive Bayes': BernoulliNB(),\n",
    "          'Support Vector Machine': SVC()\n",
    "         }"
   ]
  },
  {
   "cell_type": "code",
   "execution_count": null,
   "metadata": {
    "collapsed": true
   },
   "outputs": [],
   "source": [
    "model = KNeighborsClassifier(n_neighbors=5).fit(X_train, Y_train)\n"
   ]
  }
 ],
 "metadata": {
  "kernelspec": {
   "display_name": "Python 2",
   "language": "python",
   "name": "python2"
  },
  "language_info": {
   "codemirror_mode": {
    "name": "ipython",
    "version": 2
   },
   "file_extension": ".py",
   "mimetype": "text/x-python",
   "name": "python",
   "nbconvert_exporter": "python",
   "pygments_lexer": "ipython2",
   "version": "2.7.10"
  }
 },
 "nbformat": 4,
 "nbformat_minor": 0
}
