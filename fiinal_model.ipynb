{
 "cells": [
  {
   "cell_type": "code",
   "execution_count": 1,
   "metadata": {
    "collapsed": false
   },
   "outputs": [],
   "source": [
    "import cv2\n",
    "import numpy as np\n",
    "import os\n",
    "from sklearn.svm import LinearSVC\n",
    "from sklearn.externals import joblib\n",
    "from scipy.cluster.vq import *\n",
    "import seaborn as sns\n",
    "\n",
    "from sklearn.preprocessing import StandardScaler\n",
    "import glob\n",
    "import matplotlib.pyplot as plt\n",
    "import matplotlib.cm as cm\n",
    "import pandas as pd\n",
    "from skimage import data\n",
    "from skimage.feature import hog\n",
    "\n",
    "%matplotlib inline\n",
    "#from helper import *\n",
    "import helper\n",
    "from sklearn.pipeline import FeatureUnion, Pipeline\n",
    "from sklearn.cross_validation import StratifiedShuffleSplit\n",
    "from functools import partial\n",
    "import datetime\n",
    "import pickle"
   ]
  },
  {
   "cell_type": "code",
   "execution_count": 2,
   "metadata": {
    "collapsed": true
   },
   "outputs": [],
   "source": [
    "# sklearn models\n",
    "from sklearn.neighbors import KNeighborsClassifier\n",
    "from sklearn.naive_bayes import GaussianNB\n",
    "from sklearn.svm import SVC\n",
    "from sklearn.svm import LinearSVC\n",
    "from sklearn.tree import DecisionTreeClassifier\n",
    "from sklearn.ensemble import RandomForestClassifier\n",
    "from sklearn import linear_model\n",
    "from sklearn.naive_bayes import BernoulliNB\n",
    "from sklearn.naive_bayes import MultinomialNB\n",
    "from sklearn.preprocessing import scale\n",
    "\n",
    "# sklearn metrics\n",
    "from sklearn.metrics import *\n",
    "from sklearn.learning_curve import learning_curve\n",
    "from sklearn.cross_validation import cross_val_score\n",
    "from sklearn.cross_validation import train_test_split\n",
    "\n",
    "import helper"
   ]
  },
  {
   "cell_type": "code",
   "execution_count": 3,
   "metadata": {
    "collapsed": false
   },
   "outputs": [],
   "source": [
    "%load_ext autoreload\n",
    "%autoreload 2\n",
    "%reload_ext autoreload"
   ]
  },
  {
   "cell_type": "code",
   "execution_count": 4,
   "metadata": {
    "collapsed": true
   },
   "outputs": [],
   "source": [
    "train_folder= 'data/train'\n",
    "train_label='data/trainLabels.csv'"
   ]
  },
  {
   "cell_type": "code",
   "execution_count": 5,
   "metadata": {
    "collapsed": false
   },
   "outputs": [
    {
     "data": {
      "text/plain": [
       "u'/home/jshoun01/Data/kaggle/cifar10'"
      ]
     },
     "execution_count": 5,
     "metadata": {},
     "output_type": "execute_result"
    }
   ],
   "source": [
    "pwd"
   ]
  },
  {
   "cell_type": "code",
   "execution_count": 6,
   "metadata": {
    "collapsed": false
   },
   "outputs": [
    {
     "name": "stdout",
     "output_type": "stream",
     "text": [
      "\u001b[0m\u001b[01;34manalysis\u001b[0m/\r\n",
      "bag_of_words-checkpoint.ipynb\r\n",
      "cookies.txt\r\n",
      "\u001b[01;34mdata\u001b[0m/\r\n",
      "fiinal_model.ipynb\r\n",
      "helper.pyc\r\n",
      "model-checkpoint.ipynb\r\n",
      "OCR for Street View Text - Research-checkpoint.ipynb\r\n",
      "real_model.ipynb\r\n",
      "\u001b[01;34mresults\u001b[0m/\r\n",
      "Untitled3-checkpoint.ipynb\r\n",
      "Xtest.pkl\r\n",
      "Xtrain.pkl\r\n"
     ]
    }
   ],
   "source": [
    "ls"
   ]
  },
  {
   "cell_type": "code",
   "execution_count": 7,
   "metadata": {
    "collapsed": false
   },
   "outputs": [
    {
     "data": {
      "text/html": [
       "<div>\n",
       "<table border=\"1\" class=\"dataframe\">\n",
       "  <thead>\n",
       "    <tr style=\"text-align: right;\">\n",
       "      <th></th>\n",
       "      <th>id</th>\n",
       "      <th>label</th>\n",
       "      <th>filename</th>\n",
       "      <th>full_filename</th>\n",
       "    </tr>\n",
       "  </thead>\n",
       "  <tbody>\n",
       "    <tr>\n",
       "      <th>0</th>\n",
       "      <td>1</td>\n",
       "      <td>frog</td>\n",
       "      <td>1.png</td>\n",
       "      <td>data/train/1.png</td>\n",
       "    </tr>\n",
       "    <tr>\n",
       "      <th>1</th>\n",
       "      <td>2</td>\n",
       "      <td>truck</td>\n",
       "      <td>2.png</td>\n",
       "      <td>data/train/2.png</td>\n",
       "    </tr>\n",
       "    <tr>\n",
       "      <th>2</th>\n",
       "      <td>3</td>\n",
       "      <td>truck</td>\n",
       "      <td>3.png</td>\n",
       "      <td>data/train/3.png</td>\n",
       "    </tr>\n",
       "    <tr>\n",
       "      <th>3</th>\n",
       "      <td>4</td>\n",
       "      <td>deer</td>\n",
       "      <td>4.png</td>\n",
       "      <td>data/train/4.png</td>\n",
       "    </tr>\n",
       "    <tr>\n",
       "      <th>4</th>\n",
       "      <td>5</td>\n",
       "      <td>automobile</td>\n",
       "      <td>5.png</td>\n",
       "      <td>data/train/5.png</td>\n",
       "    </tr>\n",
       "  </tbody>\n",
       "</table>\n",
       "</div>"
      ],
      "text/plain": [
       "  id       label filename     full_filename\n",
       "0  1        frog    1.png  data/train/1.png\n",
       "1  2       truck    2.png  data/train/2.png\n",
       "2  3       truck    3.png  data/train/3.png\n",
       "3  4        deer    4.png  data/train/4.png\n",
       "4  5  automobile    5.png  data/train/5.png"
      ]
     },
     "execution_count": 7,
     "metadata": {},
     "output_type": "execute_result"
    }
   ],
   "source": [
    "all_train_df= helper.get_cifar_training_data(train_folder,train_label)\n",
    "all_train_df.head()"
   ]
  },
  {
   "cell_type": "code",
   "execution_count": 8,
   "metadata": {
    "collapsed": false
   },
   "outputs": [],
   "source": [
    "split_idxes=next(iter(StratifiedShuffleSplit(all_train_df['label'],n_iter =1,test_size=0.30,random_state=20)))\n",
    "train_index, test_index = split_idxes"
   ]
  },
  {
   "cell_type": "code",
   "execution_count": 9,
   "metadata": {
    "collapsed": false
   },
   "outputs": [],
   "source": [
    "features=all_train_df[['id','filename','full_filename']]\n",
    "labels=all_train_df['label']\n"
   ]
  },
  {
   "cell_type": "code",
   "execution_count": 10,
   "metadata": {
    "collapsed": false
   },
   "outputs": [],
   "source": [
    "train_img_gen=helper.load_images(features['full_filename'])"
   ]
  },
  {
   "cell_type": "code",
   "execution_count": 11,
   "metadata": {
    "collapsed": false
   },
   "outputs": [],
   "source": [
    "X_train_df,X_test_df,y_train,y_test= helper.get_stratified_train_test_split(\n",
    "    features,labels)"
   ]
  },
  {
   "cell_type": "code",
   "execution_count": 12,
   "metadata": {
    "collapsed": false
   },
   "outputs": [
    {
     "data": {
      "text/html": [
       "<div>\n",
       "<table border=\"1\" class=\"dataframe\">\n",
       "  <thead>\n",
       "    <tr style=\"text-align: right;\">\n",
       "      <th></th>\n",
       "      <th>id</th>\n",
       "      <th>filename</th>\n",
       "      <th>full_filename</th>\n",
       "    </tr>\n",
       "  </thead>\n",
       "  <tbody>\n",
       "    <tr>\n",
       "      <th>1401</th>\n",
       "      <td>1402</td>\n",
       "      <td>1402.png</td>\n",
       "      <td>data/train/1402.png</td>\n",
       "    </tr>\n",
       "    <tr>\n",
       "      <th>168</th>\n",
       "      <td>169</td>\n",
       "      <td>169.png</td>\n",
       "      <td>data/train/169.png</td>\n",
       "    </tr>\n",
       "    <tr>\n",
       "      <th>46471</th>\n",
       "      <td>46472</td>\n",
       "      <td>46472.png</td>\n",
       "      <td>data/train/46472.png</td>\n",
       "    </tr>\n",
       "    <tr>\n",
       "      <th>37950</th>\n",
       "      <td>37951</td>\n",
       "      <td>37951.png</td>\n",
       "      <td>data/train/37951.png</td>\n",
       "    </tr>\n",
       "    <tr>\n",
       "      <th>26285</th>\n",
       "      <td>26286</td>\n",
       "      <td>26286.png</td>\n",
       "      <td>data/train/26286.png</td>\n",
       "    </tr>\n",
       "  </tbody>\n",
       "</table>\n",
       "</div>"
      ],
      "text/plain": [
       "          id   filename         full_filename\n",
       "1401    1402   1402.png   data/train/1402.png\n",
       "168      169    169.png    data/train/169.png\n",
       "46471  46472  46472.png  data/train/46472.png\n",
       "37950  37951  37951.png  data/train/37951.png\n",
       "26285  26286  26286.png  data/train/26286.png"
      ]
     },
     "execution_count": 12,
     "metadata": {},
     "output_type": "execute_result"
    }
   ],
   "source": [
    "X_train_df.head()"
   ]
  },
  {
   "cell_type": "code",
   "execution_count": 13,
   "metadata": {
    "collapsed": false
   },
   "outputs": [
    {
     "data": {
      "text/html": [
       "<div>\n",
       "<table border=\"1\" class=\"dataframe\">\n",
       "  <thead>\n",
       "    <tr style=\"text-align: right;\">\n",
       "      <th></th>\n",
       "      <th>id</th>\n",
       "      <th>filename</th>\n",
       "      <th>full_filename</th>\n",
       "    </tr>\n",
       "  </thead>\n",
       "  <tbody>\n",
       "    <tr>\n",
       "      <th>39264</th>\n",
       "      <td>39265</td>\n",
       "      <td>39265.png</td>\n",
       "      <td>data/train/39265.png</td>\n",
       "    </tr>\n",
       "    <tr>\n",
       "      <th>18869</th>\n",
       "      <td>18870</td>\n",
       "      <td>18870.png</td>\n",
       "      <td>data/train/18870.png</td>\n",
       "    </tr>\n",
       "    <tr>\n",
       "      <th>11313</th>\n",
       "      <td>11314</td>\n",
       "      <td>11314.png</td>\n",
       "      <td>data/train/11314.png</td>\n",
       "    </tr>\n",
       "    <tr>\n",
       "      <th>26085</th>\n",
       "      <td>26086</td>\n",
       "      <td>26086.png</td>\n",
       "      <td>data/train/26086.png</td>\n",
       "    </tr>\n",
       "    <tr>\n",
       "      <th>22976</th>\n",
       "      <td>22977</td>\n",
       "      <td>22977.png</td>\n",
       "      <td>data/train/22977.png</td>\n",
       "    </tr>\n",
       "  </tbody>\n",
       "</table>\n",
       "</div>"
      ],
      "text/plain": [
       "          id   filename         full_filename\n",
       "39264  39265  39265.png  data/train/39265.png\n",
       "18869  18870  18870.png  data/train/18870.png\n",
       "11313  11314  11314.png  data/train/11314.png\n",
       "26085  26086  26086.png  data/train/26086.png\n",
       "22976  22977  22977.png  data/train/22977.png"
      ]
     },
     "execution_count": 13,
     "metadata": {},
     "output_type": "execute_result"
    }
   ],
   "source": [
    "X_test_df.head()"
   ]
  },
  {
   "cell_type": "code",
   "execution_count": 14,
   "metadata": {
    "collapsed": true
   },
   "outputs": [],
   "source": [
    "cch_1= helper.ColorChannelStatistics(sub_regions=1)\n",
    "cch_2= helper.ColorChannelStatistics(sub_regions=2)\n",
    "cch_4= helper.ColorChannelStatistics(sub_regions=4)\n",
    "\n",
    "cc_pipeline = FeatureUnion([(\"cch_1\", cch_1),(\"cch_2\", cch_2),(\"cch_4\", cch_4)])\n",
    "hog_pipeline= Pipeline([(\"gt\", helper.GrayScaleImageTransform())\n",
    "                        ,(\"ht\", helper.HogStatistics())])"
   ]
  },
  {
   "cell_type": "code",
   "execution_count": 15,
   "metadata": {
    "collapsed": false
   },
   "outputs": [],
   "source": [
    "train_img_gen=helper.load_images(X_train_df['full_filename'])\n",
    "test_img_gen=helper.load_images(X_test_df['full_filename'])\n"
   ]
  },
  {
   "cell_type": "code",
   "execution_count": 16,
   "metadata": {
    "collapsed": false
   },
   "outputs": [],
   "source": [
    "feature_extractors=[cc_pipeline,hog_pipeline]\n",
    "#X_train=helper.extract_image_features(train_img_gen,feature_extractors)\n",
    "#X_test=helper.extract_image_features(test_img_gen,feature_extractors)\n"
   ]
  },
  {
   "cell_type": "code",
   "execution_count": null,
   "metadata": {
    "collapsed": false
   },
   "outputs": [],
   "source": []
  },
  {
   "cell_type": "code",
   "execution_count": null,
   "metadata": {
    "collapsed": false
   },
   "outputs": [],
   "source": [
    "print(datetime.datetime.now())\n",
    "X_train=helper.extract_multiple_image_features(feature_extractors,X_train_df['full_filename'])\n",
    "print(datetime.datetime.now())"
   ]
  },
  {
   "cell_type": "code",
   "execution_count": null,
   "metadata": {
    "collapsed": false
   },
   "outputs": [],
   "source": [
    "print(datetime.datetime.now())\n",
    "X_test=helper.extract_multiple_image_features(feature_extractors,X_test_df['full_filename'])\n",
    "print(datetime.datetime.now())"
   ]
  },
  {
   "cell_type": "code",
   "execution_count": null,
   "metadata": {
    "collapsed": false
   },
   "outputs": [],
   "source": [
    "pickle.dump(X_train,open('Xtrain.pkl',\"wb\"))\n",
    "pickle.dump(X_test,open('Xtest.pkl',\"wb\"))"
   ]
  },
  {
   "cell_type": "code",
   "execution_count": null,
   "metadata": {
    "collapsed": true
   },
   "outputs": [],
   "source": [
    "X_train = pickle.load(open('Xtrain.pkl',\"rb\"))\n",
    "X_test = pickle.load(open('Xtest.pkl',\"rb\"))"
   ]
  },
  {
   "cell_type": "code",
   "execution_count": null,
   "metadata": {
    "collapsed": false
   },
   "outputs": [],
   "source": [
    "len(X_train)"
   ]
  },
  {
   "cell_type": "code",
   "execution_count": null,
   "metadata": {
    "collapsed": true
   },
   "outputs": [],
   "source": [
    "X_train[0]"
   ]
  },
  {
   "cell_type": "code",
   "execution_count": null,
   "metadata": {
    "collapsed": false
   },
   "outputs": [],
   "source": [
    "X_train_simp=map(lambda x:x[0], X_train)\n",
    "X_test_simp=map(lambda x:x[0], X_test)"
   ]
  },
  {
   "cell_type": "code",
   "execution_count": null,
   "metadata": {
    "collapsed": false
   },
   "outputs": [],
   "source": [
    "models = {'K-Nearest Neighbors': KNeighborsClassifier(n_neighbors=5), \n",
    "          'Gaussian Naive Bayes': GaussianNB(),\n",
    "          'Random Forest Classifier': RandomForestClassifier()\n",
    "          \n",
    "         }"
   ]
  },
  {
   "cell_type": "code",
   "execution_count": null,
   "metadata": {
    "collapsed": false
   },
   "outputs": [],
   "source": [
    "ls"
   ]
  },
  {
   "cell_type": "code",
   "execution_count": null,
   "metadata": {
    "collapsed": false
   },
   "outputs": [],
   "source": [
    "knn_model = KNeighborsClassifier(n_neighbors=5).fit(X_train_simp, y_train)\n"
   ]
  },
  {
   "cell_type": "code",
   "execution_count": null,
   "metadata": {
    "collapsed": false
   },
   "outputs": [],
   "source": [
    "helper"
   ]
  },
  {
   "cell_type": "code",
   "execution_count": null,
   "metadata": {
    "collapsed": false
   },
   "outputs": [],
   "source": [
    "helper.plot_confusion_matrix"
   ]
  },
  {
   "cell_type": "code",
   "execution_count": null,
   "metadata": {
    "collapsed": false
   },
   "outputs": [],
   "source": [
    "helper.plot_confusion_matrix(knn_model,y_test,X_test_simp)"
   ]
  },
  {
   "cell_type": "code",
   "execution_count": null,
   "metadata": {
    "collapsed": true
   },
   "outputs": [],
   "source": [
    "y_predicted=model.predict(X_test_simp)"
   ]
  },
  {
   "cell_type": "code",
   "execution_count": null,
   "metadata": {
    "collapsed": false
   },
   "outputs": [],
   "source": [
    "label_names = model.classes_\n",
    "cm = confusion_matrix(y_test, y_predicted)\n",
    "cm = np.round(cm.astype('float') / cm.sum(axis=1)[:, np.newaxis], 2)\n",
    "sns.heatmap(cm,  annot=True,  fmt='', xticklabels=label_names, yticklabels=label_names);\n",
    "print(accuracy_score(y_test, y_predicted))\n"
   ]
  },
  {
   "cell_type": "code",
   "execution_count": null,
   "metadata": {
    "collapsed": true
   },
   "outputs": [],
   "source": [
    "gm_model=GaussianNB().fit(X_train_simp, y_train)\n",
    "helper.plot_confusion_matrix(y_test,X_train_simp)"
   ]
  },
  {
   "cell_type": "code",
   "execution_count": null,
   "metadata": {
    "collapsed": false
   },
   "outputs": [],
   "source": [
    "gm_model=GaussianNB().fit(X_train_simp, y_train)\n",
    "helper.plot_confusion_matrix(y_test,X_train_simp)\n",
    "y_predicted=model.predict(X_test_simp)\n",
    "label_names = model.classes_\n",
    "cm = confusion_matrix(y_test, y_predicted)\n",
    "sns.heatmap(cm, annot=True,fmt='', xticklabels=label_names, yticklabels=label_names);\n",
    "print(accuracy_score(y_test, y_predicted))\n",
    "#print(roc_auc_score(y_test, y_predicted))"
   ]
  },
  {
   "cell_type": "code",
   "execution_count": null,
   "metadata": {
    "collapsed": false
   },
   "outputs": [],
   "source": [
    "model=RandomForestClassifier().fit(X_train_simp, y_train)\n",
    "y_predicted=model.predict(X_test_simp)\n",
    "label_names = model.  \n",
    "cm = confusion_matrix(y_test, y_predicted)\n",
    "sns.heatmap(cm, annot=True,  fmt='', xticklabels=label_names, yticklabels=label_names);\n",
    "print(accuracy_score(y_test, y_predicted))\n",
    "#print(roc_auc_score(y_test, y_predicted))"
   ]
  },
  {
   "cell_type": "code",
   "execution_count": null,
   "metadata": {
    "collapsed": false
   },
   "outputs": [],
   "source": [
    "model=BernoulliNB().fit(X_train_simp, y_train)\n",
    "y_predicted=model.predict(X_test_simp)\n",
    "label_names = model.classes_\n",
    "cm = confusion_matrix(y_test, y_predicted)\n",
    "sns.heatmap(cm, annot=True,  fmt='', xticklabels=label_names, yticklabels=label_names);\n",
    "print(accuracy_score(y_test, y_predicted))\n",
    "#print(roc_auc_score(y_test, y_predicted))"
   ]
  },
  {
   "cell_type": "code",
   "execution_count": null,
   "metadata": {
    "collapsed": false
   },
   "outputs": [],
   "source": [
    "model=SVC().fit(X_train_simp, y_train)\n",
    "y_predicted=model.predict(X_test_simp)\n",
    "label_names = model.classes_\n",
    "cm = confusion_matrix(y_test, y_predicted)\n",
    "sns.heatmap(cm, annot=True,  fmt='', xticklabels=label_names, yticklabels=label_names);\n",
    "print(accuracy_score(y_test, y_predicted))\n",
    "#print(roc_auc_score(y_test, y_predicted))"
   ]
  },
  {
   "cell_type": "code",
   "execution_count": null,
   "metadata": {
    "collapsed": true
   },
   "outputs": [],
   "source": []
  },
  {
   "cell_type": "code",
   "execution_count": null,
   "metadata": {
    "collapsed": true
   },
   "outputs": [],
   "source": []
  }
 ],
 "metadata": {
  "kernelspec": {
   "display_name": "Python 2",
   "language": "python",
   "name": "python2"
  },
  "language_info": {
   "codemirror_mode": {
    "name": "ipython",
    "version": 2
   },
   "file_extension": ".py",
   "mimetype": "text/x-python",
   "name": "python",
   "nbconvert_exporter": "python",
   "pygments_lexer": "ipython2",
   "version": "2.7.6"
  }
 },
 "nbformat": 4,
 "nbformat_minor": 0
}
