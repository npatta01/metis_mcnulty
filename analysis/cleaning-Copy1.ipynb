{
 "cells": [
  {
   "cell_type": "code",
   "execution_count": 1,
   "metadata": {
    "collapsed": false
   },
   "outputs": [],
   "source": [
    "import pandas as pd\n",
    "import os\n",
    "import csv"
   ]
  },
  {
   "cell_type": "code",
   "execution_count": 1,
   "metadata": {
    "collapsed": false
   },
   "outputs": [
    {
     "name": "stdout",
     "output_type": "stream",
     "text": [
      "cleaning-Copy1.ipynb         \u001b[0m\u001b[01;31mtest.7z\u001b[0m\r\n",
      "cleaning.ipynb               test_cifar_class.csv\r\n",
      "cookies.txt                  test_cifar_predicted_class.csv\r\n",
      "label_mapping.csv            test_file_digits.csv\r\n",
      "label_mapping_just_name.csv  \u001b[01;34mtest_split_dir\u001b[0m/\r\n",
      "\u001b[01;34mmetis_mcnulty\u001b[0m/               \u001b[01;34mtrain\u001b[0m/\r\n",
      "rearrange.py                 \u001b[01;31mtrain.7z\u001b[0m\r\n",
      "sampleSubmission.csv         train_file_digits.csv\r\n",
      "small_test.csv               trainLabels.csv\r\n",
      "\u001b[01;34mtest\u001b[0m/                        Untitled.ipynb\r\n"
     ]
    }
   ],
   "source": [
    "ls"
   ]
  },
  {
   "cell_type": "code",
   "execution_count": 2,
   "metadata": {
    "collapsed": true
   },
   "outputs": [],
   "source": [
    "train_file = pd.read_csv('trainLabels.csv')"
   ]
  },
  {
   "cell_type": "code",
   "execution_count": 3,
   "metadata": {
    "collapsed": false
   },
   "outputs": [
    {
     "data": {
      "text/html": [
       "<div>\n",
       "<table border=\"1\" class=\"dataframe\">\n",
       "  <thead>\n",
       "    <tr style=\"text-align: right;\">\n",
       "      <th></th>\n",
       "      <th>id</th>\n",
       "      <th>label</th>\n",
       "    </tr>\n",
       "  </thead>\n",
       "  <tbody>\n",
       "    <tr>\n",
       "      <th>0</th>\n",
       "      <td>1</td>\n",
       "      <td>frog</td>\n",
       "    </tr>\n",
       "    <tr>\n",
       "      <th>1</th>\n",
       "      <td>2</td>\n",
       "      <td>truck</td>\n",
       "    </tr>\n",
       "    <tr>\n",
       "      <th>2</th>\n",
       "      <td>3</td>\n",
       "      <td>truck</td>\n",
       "    </tr>\n",
       "    <tr>\n",
       "      <th>3</th>\n",
       "      <td>4</td>\n",
       "      <td>deer</td>\n",
       "    </tr>\n",
       "    <tr>\n",
       "      <th>4</th>\n",
       "      <td>5</td>\n",
       "      <td>automobile</td>\n",
       "    </tr>\n",
       "  </tbody>\n",
       "</table>\n",
       "</div>"
      ],
      "text/plain": [
       "   id       label\n",
       "0   1        frog\n",
       "1   2       truck\n",
       "2   3       truck\n",
       "3   4        deer\n",
       "4   5  automobile"
      ]
     },
     "execution_count": 3,
     "metadata": {},
     "output_type": "execute_result"
    }
   ],
   "source": [
    "train_file.head()"
   ]
  },
  {
   "cell_type": "code",
   "execution_count": 2,
   "metadata": {
    "collapsed": true
   },
   "outputs": [],
   "source": [
    "train_base_path='/home/jshoun01/Data/kaggle/cifar10/train'\n",
    "test_base_path='/home/jshoun01/Data/kaggle/cifar10/test'"
   ]
  },
  {
   "cell_type": "code",
   "execution_count": 42,
   "metadata": {
    "collapsed": false
   },
   "outputs": [],
   "source": [
    "labels=list(train_file['label'].unique())\n",
    "labels_dict = {item : index for index, item in enumerate(labels)}\n",
    "labels_dict_pair=sorted(labels_dict.items(), key=lambda x: x[1])"
   ]
  },
  {
   "cell_type": "code",
   "execution_count": 43,
   "metadata": {
    "collapsed": false
   },
   "outputs": [
    {
     "data": {
      "text/plain": [
       "['frog',\n",
       " 'truck',\n",
       " 'deer',\n",
       " 'automobile',\n",
       " 'bird',\n",
       " 'horse',\n",
       " 'ship',\n",
       " 'cat',\n",
       " 'dog',\n",
       " 'airplane']"
      ]
     },
     "execution_count": 43,
     "metadata": {},
     "output_type": "execute_result"
    }
   ],
   "source": [
    "labels"
   ]
  },
  {
   "cell_type": "code",
   "execution_count": 44,
   "metadata": {
    "collapsed": false
   },
   "outputs": [
    {
     "data": {
      "text/plain": [
       "{'airplane': 9,\n",
       " 'automobile': 3,\n",
       " 'bird': 4,\n",
       " 'cat': 7,\n",
       " 'deer': 2,\n",
       " 'dog': 8,\n",
       " 'frog': 0,\n",
       " 'horse': 5,\n",
       " 'ship': 6,\n",
       " 'truck': 1}"
      ]
     },
     "execution_count": 44,
     "metadata": {},
     "output_type": "execute_result"
    }
   ],
   "source": [
    "labels_dict"
   ]
  },
  {
   "cell_type": "code",
   "execution_count": 46,
   "metadata": {
    "collapsed": false
   },
   "outputs": [
    {
     "data": {
      "text/plain": [
       "[('frog', 0),\n",
       " ('truck', 1),\n",
       " ('deer', 2),\n",
       " ('automobile', 3),\n",
       " ('bird', 4),\n",
       " ('horse', 5),\n",
       " ('ship', 6),\n",
       " ('cat', 7),\n",
       " ('dog', 8),\n",
       " ('airplane', 9)]"
      ]
     },
     "execution_count": 46,
     "metadata": {},
     "output_type": "execute_result"
    }
   ],
   "source": [
    "labels_dict_pair"
   ]
  },
  {
   "cell_type": "code",
   "execution_count": 48,
   "metadata": {
    "collapsed": false
   },
   "outputs": [],
   "source": [
    "csvfile= 'label_mapping.csv'\n",
    "with open(csvfile, \"w\") as output:\n",
    "    writer = csv.writer(output, lineterminator='\\n')\n",
    "    for key, value in labels_dict_pair:\n",
    "        writer.writerow([key, value])\n"
   ]
  },
  {
   "cell_type": "code",
   "execution_count": 49,
   "metadata": {
    "collapsed": true
   },
   "outputs": [],
   "source": [
    "csvfile= 'label_mapping_just_name.csv'\n",
    "with open(csvfile, \"w\") as output:\n",
    "    writer = csv.writer(output, lineterminator='\\n')\n",
    "    for key, value in labels_dict_pair:\n",
    "        writer.writerow([key])"
   ]
  },
  {
   "cell_type": "code",
   "execution_count": 8,
   "metadata": {
    "collapsed": true
   },
   "outputs": [],
   "source": [
    "train_file['full_file'] =train_file['id'].apply(lambda x: '%s/%s.png'%(train_base_path,x))\n",
    "train_file['label_num']=train_file['label'].apply(lambda x: labels_dict[x] )"
   ]
  },
  {
   "cell_type": "code",
   "execution_count": 9,
   "metadata": {
    "collapsed": false
   },
   "outputs": [
    {
     "data": {
      "text/html": [
       "<div>\n",
       "<table border=\"1\" class=\"dataframe\">\n",
       "  <thead>\n",
       "    <tr style=\"text-align: right;\">\n",
       "      <th></th>\n",
       "      <th>id</th>\n",
       "      <th>label</th>\n",
       "      <th>full_file</th>\n",
       "      <th>label_num</th>\n",
       "    </tr>\n",
       "  </thead>\n",
       "  <tbody>\n",
       "    <tr>\n",
       "      <th>0</th>\n",
       "      <td>1</td>\n",
       "      <td>frog</td>\n",
       "      <td>/home/jshoun01/Data/kaggle/cifar10/train/1.png</td>\n",
       "      <td>0</td>\n",
       "    </tr>\n",
       "    <tr>\n",
       "      <th>1</th>\n",
       "      <td>2</td>\n",
       "      <td>truck</td>\n",
       "      <td>/home/jshoun01/Data/kaggle/cifar10/train/2.png</td>\n",
       "      <td>1</td>\n",
       "    </tr>\n",
       "    <tr>\n",
       "      <th>2</th>\n",
       "      <td>3</td>\n",
       "      <td>truck</td>\n",
       "      <td>/home/jshoun01/Data/kaggle/cifar10/train/3.png</td>\n",
       "      <td>1</td>\n",
       "    </tr>\n",
       "    <tr>\n",
       "      <th>3</th>\n",
       "      <td>4</td>\n",
       "      <td>deer</td>\n",
       "      <td>/home/jshoun01/Data/kaggle/cifar10/train/4.png</td>\n",
       "      <td>2</td>\n",
       "    </tr>\n",
       "    <tr>\n",
       "      <th>4</th>\n",
       "      <td>5</td>\n",
       "      <td>automobile</td>\n",
       "      <td>/home/jshoun01/Data/kaggle/cifar10/train/5.png</td>\n",
       "      <td>3</td>\n",
       "    </tr>\n",
       "  </tbody>\n",
       "</table>\n",
       "</div>"
      ],
      "text/plain": [
       "   id       label                                       full_file  label_num\n",
       "0   1        frog  /home/jshoun01/Data/kaggle/cifar10/train/1.png          0\n",
       "1   2       truck  /home/jshoun01/Data/kaggle/cifar10/train/2.png          1\n",
       "2   3       truck  /home/jshoun01/Data/kaggle/cifar10/train/3.png          1\n",
       "3   4        deer  /home/jshoun01/Data/kaggle/cifar10/train/4.png          2\n",
       "4   5  automobile  /home/jshoun01/Data/kaggle/cifar10/train/5.png          3"
      ]
     },
     "execution_count": 9,
     "metadata": {},
     "output_type": "execute_result"
    }
   ],
   "source": [
    "train_file.head()"
   ]
  },
  {
   "cell_type": "code",
   "execution_count": 50,
   "metadata": {
    "collapsed": true
   },
   "outputs": [],
   "source": [
    "?train_file.to_csv"
   ]
  },
  {
   "cell_type": "code",
   "execution_count": 51,
   "metadata": {
    "collapsed": true
   },
   "outputs": [],
   "source": [
    "train_file[['full_file','label_num']].to_csv('train_file_digits.csv',header=False,index=False,sep=' ')"
   ]
  },
  {
   "cell_type": "code",
   "execution_count": 3,
   "metadata": {
    "collapsed": false
   },
   "outputs": [],
   "source": [
    "test_files= os.listdir(test_base_path)\n",
    "test_files = map(lambda x: '%s/%s'%(test_base_path,x),test_files)"
   ]
  },
  {
   "cell_type": "code",
   "execution_count": 53,
   "metadata": {
    "collapsed": false
   },
   "outputs": [
    {
     "data": {
      "text/plain": [
       "'/home/jshoun01/Data/kaggle/cifar10/test/147325.png'"
      ]
     },
     "execution_count": 53,
     "metadata": {},
     "output_type": "execute_result"
    }
   ],
   "source": [
    "test_files[0]"
   ]
  },
  {
   "cell_type": "code",
   "execution_count": 4,
   "metadata": {
    "collapsed": false
   },
   "outputs": [],
   "source": [
    "#Assuming res is a flat list\n",
    "csvfile ='test_file_digits.csv'\n",
    "res =test_files\n",
    "with open(csvfile, \"w\") as output:\n",
    "    writer = csv.writer(output, lineterminator='\\n')\n",
    "    for val in res:\n",
    "        writer.writerow([val]) "
   ]
  },
  {
   "cell_type": "code",
   "execution_count": null,
   "metadata": {
    "collapsed": true
   },
   "outputs": [],
   "source": []
  }
 ],
 "metadata": {
  "kernelspec": {
   "display_name": "Python 2",
   "language": "python",
   "name": "python2"
  },
  "language_info": {
   "codemirror_mode": {
    "name": "ipython",
    "version": 2
   },
   "file_extension": ".py",
   "mimetype": "text/x-python",
   "name": "python",
   "nbconvert_exporter": "python",
   "pygments_lexer": "ipython2",
   "version": "2.7.6"
  }
 },
 "nbformat": 4,
 "nbformat_minor": 0
}
