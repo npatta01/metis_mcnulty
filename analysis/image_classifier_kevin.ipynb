{
 "cells": [
  {
   "cell_type": "code",
   "execution_count": 49,
   "metadata": {
    "collapsed": false
   },
   "outputs": [],
   "source": [
    "import pandas as pd\n",
    "import numpy as np\n",
    "import pylab as pl\n",
    "import PIL\n",
    "from PIL import Image\n",
    "import os\n",
    "import base64\n",
    "from StringIO import StringIO\n",
    "from pprint import pprint"
   ]
  },
  {
   "cell_type": "code",
   "execution_count": 356,
   "metadata": {
    "collapsed": false
   },
   "outputs": [],
   "source": [
    "from sklearn.decomposition import RandomizedPCA\n",
    "from sklearn.neighbors import KNeighborsClassifier\n",
    "from sklearn.linear_model import LogisticRegression\n",
    "from sklearn.naive_bayes import GaussianNB\n",
    "from sklearn.svm import SVC\n",
    "from sklearn.tree import DecisionTreeClassifier\n",
    "from sklearn.ensemble import RandomForestClassifier"
   ]
  },
  {
   "cell_type": "code",
   "execution_count": 357,
   "metadata": {
    "collapsed": false
   },
   "outputs": [],
   "source": [
    "%matplotlib inline"
   ]
  },
  {
   "cell_type": "code",
   "execution_count": 358,
   "metadata": {
    "collapsed": true
   },
   "outputs": [],
   "source": [
    "import csv"
   ]
  },
  {
   "cell_type": "code",
   "execution_count": 215,
   "metadata": {
    "collapsed": false
   },
   "outputs": [],
   "source": [
    "from bs4 import BeautifulSoup\n",
    "import requests\n",
    "import re\n",
    "import urllib2\n",
    "import os\n",
    "\n",
    "\n",
    "def get_soup(url):\n",
    "    return BeautifulSoup(requests.get(url).text)\n",
    "\n",
    "image_type = \"stopsign\"\n",
    "query = \"stop sign\"\n",
    "url = \"http://www.bing.com/images/search?q=\" + query + \\\n",
    "    \"&qft=+filterui:color2-bw+filterui:imagesize-large&FORM=R5IR3\"\n",
    "\n",
    "soup = get_soup(url)\n",
    "images = [a['src'] for a in soup.find_all(\"img\", {\"src\": re.compile(\"mm.bing.net\")})]\n",
    "\n",
    "for img in images:\n",
    "    raw_img = urllib2.urlopen(img).read()\n",
    "    cntr = len([i for i in os.listdir(\"img\") if image_type in i]) + 1\n",
    "    f = open(\"./img/\" + image_type + \"_\"+ str(cntr), 'wb')\n",
    "    f.write(raw_img)\n",
    "    f.close()"
   ]
  },
  {
   "cell_type": "code",
   "execution_count": null,
   "metadata": {
    "collapsed": true
   },
   "outputs": [],
   "source": []
  },
  {
   "cell_type": "markdown",
   "metadata": {},
   "source": [
    "<h2>Importing Image Data</h2>"
   ]
  },
  {
   "cell_type": "markdown",
   "metadata": {},
   "source": [
    "<h5>Create Processing Functions</h5>"
   ]
  },
  {
   "cell_type": "code",
   "execution_count": 359,
   "metadata": {
    "collapsed": false
   },
   "outputs": [],
   "source": [
    "#setup a standard image size; this will distort some images but will get everything into the same shape\n",
    "STANDARD_SIZE = (100, 56)\n",
    "def img_to_matrix(filename, verbose=False):\n",
    "    \"\"\"\n",
    "    takes a filename and turns it into a numpy array of RGB pixels\n",
    "    \"\"\"\n",
    "    img = PIL.Image.open(filename)\n",
    "    if verbose==True:\n",
    "        print \"changing size from %s to %s\" % (str(img.size), str(STANDARD_SIZE))\n",
    "    img = img.resize(STANDARD_SIZE)\n",
    "    img = list(img.getdata())\n",
    "    img = map(list, img)\n",
    "    img = np.array(img)\n",
    "    return img\n",
    "\n",
    "def flatten_image(img):\n",
    "    \"\"\"\n",
    "    takes in an (m, n) numpy array and flattens it \n",
    "    into an array of shape (1, m * n)\n",
    "    \"\"\"\n",
    "#     print img.shape[0]\n",
    "#     print img.shape[1]\n",
    "    s = img.shape[0] * img.shape[1]\n",
    "    img_wide = img.reshape(1, s)\n",
    "    return img_wide[0]"
   ]
  },
  {
   "cell_type": "markdown",
   "metadata": {},
   "source": [
    "<h5>Define the location of your data and import it</h5>"
   ]
  },
  {
   "cell_type": "code",
   "execution_count": 360,
   "metadata": {
    "collapsed": false,
    "scrolled": true
   },
   "outputs": [
    {
     "data": {
      "text/plain": [
       "array([[221, 221, 221, ..., 221, 221, 221],\n",
       "       [220, 220, 220, ..., 224, 224, 224],\n",
       "       [221, 221, 221, ..., 221, 221, 221],\n",
       "       ..., \n",
       "       [221, 221, 221, ..., 221, 221, 221],\n",
       "       [221, 221, 221, ..., 221, 221, 221],\n",
       "       [221, 221, 221, ..., 221, 221, 221]])"
      ]
     },
     "execution_count": 360,
     "metadata": {},
     "output_type": "execute_result"
    }
   ],
   "source": [
    "# TODO PATH TO YOUR DATA\n",
    "img_dir = \"./img/\"\n",
    "images = [img_dir+ f for f in os.listdir(img_dir)]\n",
    "labels = [f.split('/')[-1].split('.')[0].split('_')[0] for f in images]\n",
    "\n",
    "imagedict = {}\n",
    "\n",
    "data = []\n",
    "for image in images:\n",
    "    img = img_to_matrix(image)\n",
    "    img = flatten_image(img)\n",
    "    imagedict.setdefault(image, []).append(img)\n",
    "    data.append(img)\n",
    "\n",
    "data = np.array(data)\n",
    "data"
   ]
  },
  {
   "cell_type": "code",
   "execution_count": 361,
   "metadata": {
    "collapsed": false
   },
   "outputs": [],
   "source": [
    "writer = csv.writer(open('imagedict.csv', 'wb'))\n",
    "for key, value in imagedict.items():\n",
    "    loc0 = key.split('/')[-1].split('.')[0].split('_')[0]\n",
    "    pixels = value[0]\n",
    "    writer.writerow(pixels)"
   ]
  },
  {
   "cell_type": "code",
   "execution_count": null,
   "metadata": {
    "collapsed": true
   },
   "outputs": [],
   "source": []
  },
  {
   "cell_type": "markdown",
   "metadata": {},
   "source": [
    "<h2>Creating Features</h2>"
   ]
  },
  {
   "cell_type": "markdown",
   "metadata": {},
   "source": [
    "<h5>Define a training and test set</h5>"
   ]
  },
  {
   "cell_type": "code",
   "execution_count": 362,
   "metadata": {
    "collapsed": false
   },
   "outputs": [],
   "source": [
    "is_train = np.random.uniform(0, 1, len(data)) <= 0.7\n",
    "y = np.where(np.array(labels)==\"speedlimit\", 1, 0)\n",
    "\n",
    "train_x, train_y = data[is_train], y[is_train]\n",
    "test_x, test_y = data[is_train==False], y[is_train==False]"
   ]
  },
  {
   "cell_type": "code",
   "execution_count": 363,
   "metadata": {
    "collapsed": false
   },
   "outputs": [
    {
     "data": {
      "text/plain": [
       "array([[221, 221, 221, ..., 221, 221, 221],\n",
       "       [220, 220, 220, ..., 224, 224, 224],\n",
       "       [221, 221, 221, ..., 221, 221, 221],\n",
       "       ..., \n",
       "       [221, 221, 221, ..., 221, 221, 221],\n",
       "       [221, 221, 221, ..., 221, 221, 221],\n",
       "       [221, 221, 221, ..., 221, 221, 221]])"
      ]
     },
     "execution_count": 363,
     "metadata": {},
     "output_type": "execute_result"
    }
   ],
   "source": [
    "train_x"
   ]
  },
  {
   "cell_type": "code",
   "execution_count": 364,
   "metadata": {
    "collapsed": false
   },
   "outputs": [
    {
     "data": {
      "text/plain": [
       "array([1, 1, 1, 1, 1, 1, 1, 1, 1, 1, 1, 1, 1, 1, 1, 1, 1, 1, 1, 1, 1, 0, 0,\n",
       "       0, 0, 0, 0, 0, 0, 0, 0, 0, 0, 0, 0])"
      ]
     },
     "execution_count": 364,
     "metadata": {},
     "output_type": "execute_result"
    }
   ],
   "source": [
    "train_y"
   ]
  },
  {
   "cell_type": "code",
   "execution_count": 365,
   "metadata": {
    "collapsed": false
   },
   "outputs": [
    {
     "data": {
      "text/plain": [
       "array([[221, 221, 221, ..., 221, 221, 221],\n",
       "       [221, 221, 221, ..., 221, 221, 221],\n",
       "       [221, 221, 221, ..., 221, 221, 221],\n",
       "       ..., \n",
       "       [221, 221, 221, ..., 221, 221, 221],\n",
       "       [221, 221, 221, ..., 221, 221, 221],\n",
       "       [221, 221, 221, ..., 221, 221, 221]])"
      ]
     },
     "execution_count": 365,
     "metadata": {},
     "output_type": "execute_result"
    }
   ],
   "source": [
    "test_x"
   ]
  },
  {
   "cell_type": "code",
   "execution_count": 366,
   "metadata": {
    "collapsed": false
   },
   "outputs": [
    {
     "data": {
      "text/plain": [
       "array([1, 1, 1, 1, 1, 1, 1, 0, 0, 0, 0, 0, 0, 0, 0, 0, 0, 0, 0, 0, 0])"
      ]
     },
     "execution_count": 366,
     "metadata": {},
     "output_type": "execute_result"
    }
   ],
   "source": [
    "test_y"
   ]
  },
  {
   "cell_type": "markdown",
   "metadata": {},
   "source": [
    "<h5>RandomizedPCA to create features</h5>\n",
    "<p>Before we actually create our feature vectors, we're going to show a demo of <code>RandomizedPCA</code> in 2 dimensions. This makes it easy to plot high dimensional data</p>"
   ]
  },
  {
   "cell_type": "code",
   "execution_count": 367,
   "metadata": {
    "collapsed": false
   },
   "outputs": [
    {
     "data": {
      "text/plain": [
       "<matplotlib.legend.Legend at 0x116c3e090>"
      ]
     },
     "execution_count": 367,
     "metadata": {},
     "output_type": "execute_result"
    },
    {
     "data": {
      "image/png": "[encoded data removed]",
      "text/plain": [
       "<matplotlib.figure.Figure at 0x116cc5450>"
      ]
     },
     "metadata": {},
     "output_type": "display_data"
    }
   ],
   "source": [
    "pca = RandomizedPCA(n_components=3)\n",
    "X = pca.fit_transform(data)\n",
    "df = pd.DataFrame({\"x\": X[:, 0], \"y\": X[:, 1], \"label\":np.where(y==1, \"speedlimit\", \"stopsign\")})\n",
    "colors = [\"red\", \"yellow\"]\n",
    "for label, color in zip(df['label'].unique(), colors):\n",
    "    mask = df['label']==label\n",
    "    pl.scatter(df[mask]['x'], df[mask]['y'], c=color, label=label)\n",
    "pl.legend()"
   ]
  },
  {
   "cell_type": "markdown",
   "metadata": {},
   "source": [
    "<h2>RandomizedPCA in 5 dimensions</h2>\n",
    "<p>Instead of 2 dimenisons, we're going to do RandomizedPCA in 5 dimensions. This will make it a bit harder to visualize, but it will make it easier for some of the classifiers to work with the dataset.</p>"
   ]
  },
  {
   "cell_type": "code",
   "execution_count": 368,
   "metadata": {
    "collapsed": false
   },
   "outputs": [],
   "source": [
    "pca = RandomizedPCA(n_components=5)\n",
    "train_x = pca.fit_transform(train_x)\n",
    "test_x = pca.transform(test_x)"
   ]
  },
  {
   "cell_type": "markdown",
   "metadata": {},
   "source": [
    "<p>This gives our classifier a nice set of tabular data that we can then use to train the model</p>"
   ]
  },
  {
   "cell_type": "code",
   "execution_count": 369,
   "metadata": {
    "collapsed": false
   },
   "outputs": [
    {
     "data": {
      "text/plain": [
       "array([[ -101.19416701, -5775.89959654, -1458.27775128,   918.11511154,\n",
       "         -139.36306774],\n",
       "       [ 2590.83061593,  1165.55489422,   511.26822444,  -595.74793624,\n",
       "        -1755.76015555],\n",
       "       [-1098.35938143, -6813.3768636 ,  -238.37374254,  2328.52089345,\n",
       "         2866.21021909],\n",
       "       [  436.10872234,  1991.16624504,  1257.70912423,  1073.24335265,\n",
       "        -2678.57638779],\n",
       "       [ 3021.8723943 ,  2435.90418151,  1331.92020741,  1256.02680488,\n",
       "         1584.40318628]])"
      ]
     },
     "execution_count": 369,
     "metadata": {},
     "output_type": "execute_result"
    }
   ],
   "source": [
    "train_x[:5]"
   ]
  },
  {
   "cell_type": "markdown",
   "metadata": {},
   "source": [
    "<p>We're going to be using a <code>K-Nearest Neighbors</code> classifier. Based on our set of training data, we're going to caclulate which training obersvations are closest to a given test point. Whichever class has the most votes wins.</p>"
   ]
  },
  {
   "cell_type": "code",
   "execution_count": 337,
   "metadata": {
    "collapsed": false
   },
   "outputs": [
    {
     "data": {
      "text/plain": [
       "KNeighborsClassifier(algorithm='auto', leaf_size=30, metric='minkowski',\n",
       "           metric_params=None, n_neighbors=3, p=2, weights='uniform')"
      ]
     },
     "execution_count": 337,
     "metadata": {},
     "output_type": "execute_result"
    }
   ],
   "source": [
    "knn = KNeighborsClassifier(n_neighbors = 3)\n",
    "knn.fit(train_x, train_y)"
   ]
  },
  {
   "cell_type": "code",
   "execution_count": 371,
   "metadata": {
    "collapsed": false
   },
   "outputs": [
    {
     "data": {
      "text/plain": [
       "LogisticRegression(C=1.0, class_weight=None, dual=False, fit_intercept=True,\n",
       "          intercept_scaling=1, max_iter=100, multi_class='ovr',\n",
       "          penalty='l2', random_state=None, solver='liblinear', tol=0.0001,\n",
       "          verbose=0)"
      ]
     },
     "execution_count": 371,
     "metadata": {},
     "output_type": "execute_result"
    }
   ],
   "source": [
    "logist = LogisticRegression()\n",
    "logist.fit(train_x, train_y)"
   ]
  },
  {
   "cell_type": "code",
   "execution_count": 370,
   "metadata": {
    "collapsed": false
   },
   "outputs": [
    {
     "data": {
      "text/plain": [
       "GaussianNB()"
      ]
     },
     "execution_count": 370,
     "metadata": {},
     "output_type": "execute_result"
    }
   ],
   "source": [
    "GNB = GaussianNB()\n",
    "GNB.fit(train_x, train_y)"
   ]
  },
  {
   "cell_type": "code",
   "execution_count": 372,
   "metadata": {
    "collapsed": false
   },
   "outputs": [
    {
     "data": {
      "text/plain": [
       "SVC(C=1.0, cache_size=200, class_weight=None, coef0=0.0, degree=3, gamma=0.0,\n",
       "  kernel='rbf', max_iter=-1, probability=False, random_state=None,\n",
       "  shrinking=True, tol=0.001, verbose=False)"
      ]
     },
     "execution_count": 372,
     "metadata": {},
     "output_type": "execute_result"
    }
   ],
   "source": [
    "SVC_model = SVC()\n",
    "SVC_model.fit(train_x, train_y)"
   ]
  },
  {
   "cell_type": "code",
   "execution_count": 375,
   "metadata": {
    "collapsed": false
   },
   "outputs": [
    {
     "data": {
      "text/plain": [
       "DecisionTreeClassifier(class_weight=None, criterion='gini', max_depth=None,\n",
       "            max_features=None, max_leaf_nodes=None, min_samples_leaf=1,\n",
       "            min_samples_split=2, min_weight_fraction_leaf=0.0,\n",
       "            random_state=None, splitter='best')"
      ]
     },
     "execution_count": 375,
     "metadata": {},
     "output_type": "execute_result"
    }
   ],
   "source": [
    "DTC = DecisionTreeClassifier()\n",
    "DTC.fit(train_x, train_y)"
   ]
  },
  {
   "cell_type": "code",
   "execution_count": 374,
   "metadata": {
    "collapsed": false
   },
   "outputs": [
    {
     "data": {
      "text/plain": [
       "RandomForestClassifier(bootstrap=True, class_weight=None, criterion='gini',\n",
       "            max_depth=None, max_features='auto', max_leaf_nodes=None,\n",
       "            min_samples_leaf=1, min_samples_split=2,\n",
       "            min_weight_fraction_leaf=0.0, n_estimators=10, n_jobs=1,\n",
       "            oob_score=False, random_state=None, verbose=0,\n",
       "            warm_start=False)"
      ]
     },
     "execution_count": 374,
     "metadata": {},
     "output_type": "execute_result"
    }
   ],
   "source": [
    "RFC = RandomForestClassifier()\n",
    "RFC.fit(train_x, train_y)"
   ]
  },
  {
   "cell_type": "code",
   "execution_count": 393,
   "metadata": {
    "collapsed": false
   },
   "outputs": [
    {
     "data": {
      "text/html": [
       "<div>\n",
       "<table border=\"1\" class=\"dataframe\">\n",
       "  <thead>\n",
       "    <tr style=\"text-align: right;\">\n",
       "      <th>Predicted</th>\n",
       "      <th>0</th>\n",
       "      <th>1</th>\n",
       "    </tr>\n",
       "    <tr>\n",
       "      <th>Actual</th>\n",
       "      <th></th>\n",
       "      <th></th>\n",
       "    </tr>\n",
       "  </thead>\n",
       "  <tbody>\n",
       "    <tr>\n",
       "      <th>0</th>\n",
       "      <td>9</td>\n",
       "      <td>5</td>\n",
       "    </tr>\n",
       "    <tr>\n",
       "      <th>1</th>\n",
       "      <td>2</td>\n",
       "      <td>5</td>\n",
       "    </tr>\n",
       "  </tbody>\n",
       "</table>\n",
       "</div>"
      ],
      "text/plain": [
       "Predicted  0  1\n",
       "Actual         \n",
       "0          9  5\n",
       "1          2  5"
      ]
     },
     "execution_count": 393,
     "metadata": {},
     "output_type": "execute_result"
    }
   ],
   "source": [
    "pd.crosstab(test_y, knn.predict(test_x), rownames=[\"Actual\"], colnames=[\"Predicted\"])"
   ]
  },
  {
   "cell_type": "code",
   "execution_count": 394,
   "metadata": {
    "collapsed": false
   },
   "outputs": [
    {
     "data": {
      "text/html": [
       "<div>\n",
       "<table border=\"1\" class=\"dataframe\">\n",
       "  <thead>\n",
       "    <tr style=\"text-align: right;\">\n",
       "      <th>Predicted</th>\n",
       "      <th>0</th>\n",
       "      <th>1</th>\n",
       "    </tr>\n",
       "    <tr>\n",
       "      <th>Actual</th>\n",
       "      <th></th>\n",
       "      <th></th>\n",
       "    </tr>\n",
       "  </thead>\n",
       "  <tbody>\n",
       "    <tr>\n",
       "      <th>0</th>\n",
       "      <td>3</td>\n",
       "      <td>11</td>\n",
       "    </tr>\n",
       "    <tr>\n",
       "      <th>1</th>\n",
       "      <td>1</td>\n",
       "      <td>6</td>\n",
       "    </tr>\n",
       "  </tbody>\n",
       "</table>\n",
       "</div>"
      ],
      "text/plain": [
       "Predicted  0   1\n",
       "Actual          \n",
       "0          3  11\n",
       "1          1   6"
      ]
     },
     "execution_count": 394,
     "metadata": {},
     "output_type": "execute_result"
    }
   ],
   "source": [
    "pd.crosstab(test_y, logist.predict(test_x), rownames=[\"Actual\"], colnames=[\"Predicted\"])"
   ]
  },
  {
   "cell_type": "code",
   "execution_count": 395,
   "metadata": {
    "collapsed": false
   },
   "outputs": [
    {
     "data": {
      "text/html": [
       "<div>\n",
       "<table border=\"1\" class=\"dataframe\">\n",
       "  <thead>\n",
       "    <tr style=\"text-align: right;\">\n",
       "      <th>Predicted</th>\n",
       "      <th>0</th>\n",
       "      <th>1</th>\n",
       "    </tr>\n",
       "    <tr>\n",
       "      <th>Actual</th>\n",
       "      <th></th>\n",
       "      <th></th>\n",
       "    </tr>\n",
       "  </thead>\n",
       "  <tbody>\n",
       "    <tr>\n",
       "      <th>0</th>\n",
       "      <td>8</td>\n",
       "      <td>6</td>\n",
       "    </tr>\n",
       "    <tr>\n",
       "      <th>1</th>\n",
       "      <td>1</td>\n",
       "      <td>6</td>\n",
       "    </tr>\n",
       "  </tbody>\n",
       "</table>\n",
       "</div>"
      ],
      "text/plain": [
       "Predicted  0  1\n",
       "Actual         \n",
       "0          8  6\n",
       "1          1  6"
      ]
     },
     "execution_count": 395,
     "metadata": {},
     "output_type": "execute_result"
    }
   ],
   "source": [
    "pd.crosstab(test_y, GNB.predict(test_x), rownames=[\"Actual\"], colnames=[\"Predicted\"])"
   ]
  },
  {
   "cell_type": "code",
   "execution_count": 396,
   "metadata": {
    "collapsed": false
   },
   "outputs": [
    {
     "data": {
      "text/html": [
       "<div>\n",
       "<table border=\"1\" class=\"dataframe\">\n",
       "  <thead>\n",
       "    <tr style=\"text-align: right;\">\n",
       "      <th>Predicted</th>\n",
       "      <th>1</th>\n",
       "    </tr>\n",
       "    <tr>\n",
       "      <th>Actual</th>\n",
       "      <th></th>\n",
       "    </tr>\n",
       "  </thead>\n",
       "  <tbody>\n",
       "    <tr>\n",
       "      <th>0</th>\n",
       "      <td>14</td>\n",
       "    </tr>\n",
       "    <tr>\n",
       "      <th>1</th>\n",
       "      <td>7</td>\n",
       "    </tr>\n",
       "  </tbody>\n",
       "</table>\n",
       "</div>"
      ],
      "text/plain": [
       "Predicted   1\n",
       "Actual       \n",
       "0          14\n",
       "1           7"
      ]
     },
     "execution_count": 396,
     "metadata": {},
     "output_type": "execute_result"
    }
   ],
   "source": [
    "pd.crosstab(test_y, SVC_model.predict(test_x), rownames=[\"Actual\"], colnames=[\"Predicted\"])"
   ]
  },
  {
   "cell_type": "code",
   "execution_count": 397,
   "metadata": {
    "collapsed": false
   },
   "outputs": [
    {
     "data": {
      "text/html": [
       "<div>\n",
       "<table border=\"1\" class=\"dataframe\">\n",
       "  <thead>\n",
       "    <tr style=\"text-align: right;\">\n",
       "      <th>Predicted</th>\n",
       "      <th>0</th>\n",
       "      <th>1</th>\n",
       "    </tr>\n",
       "    <tr>\n",
       "      <th>Actual</th>\n",
       "      <th></th>\n",
       "      <th></th>\n",
       "    </tr>\n",
       "  </thead>\n",
       "  <tbody>\n",
       "    <tr>\n",
       "      <th>0</th>\n",
       "      <td>9</td>\n",
       "      <td>5</td>\n",
       "    </tr>\n",
       "    <tr>\n",
       "      <th>1</th>\n",
       "      <td>1</td>\n",
       "      <td>6</td>\n",
       "    </tr>\n",
       "  </tbody>\n",
       "</table>\n",
       "</div>"
      ],
      "text/plain": [
       "Predicted  0  1\n",
       "Actual         \n",
       "0          9  5\n",
       "1          1  6"
      ]
     },
     "execution_count": 397,
     "metadata": {},
     "output_type": "execute_result"
    }
   ],
   "source": [
    "pd.crosstab(test_y, DTC.predict(test_x), rownames=[\"Actual\"], colnames=[\"Predicted\"])"
   ]
  },
  {
   "cell_type": "code",
   "execution_count": 398,
   "metadata": {
    "collapsed": false
   },
   "outputs": [
    {
     "data": {
      "text/html": [
       "<div>\n",
       "<table border=\"1\" class=\"dataframe\">\n",
       "  <thead>\n",
       "    <tr style=\"text-align: right;\">\n",
       "      <th>Predicted</th>\n",
       "      <th>0</th>\n",
       "      <th>1</th>\n",
       "    </tr>\n",
       "    <tr>\n",
       "      <th>Actual</th>\n",
       "      <th></th>\n",
       "      <th></th>\n",
       "    </tr>\n",
       "  </thead>\n",
       "  <tbody>\n",
       "    <tr>\n",
       "      <th>0</th>\n",
       "      <td>12</td>\n",
       "      <td>2</td>\n",
       "    </tr>\n",
       "    <tr>\n",
       "      <th>1</th>\n",
       "      <td>1</td>\n",
       "      <td>6</td>\n",
       "    </tr>\n",
       "  </tbody>\n",
       "</table>\n",
       "</div>"
      ],
      "text/plain": [
       "Predicted   0  1\n",
       "Actual          \n",
       "0          12  2\n",
       "1           1  6"
      ]
     },
     "execution_count": 398,
     "metadata": {},
     "output_type": "execute_result"
    }
   ],
   "source": [
    "pd.crosstab(test_y, RFC.predict(test_x), rownames=[\"Actual\"], colnames=[\"Predicted\"])"
   ]
  },
  {
   "cell_type": "code",
   "execution_count": 386,
   "metadata": {
    "collapsed": false
   },
   "outputs": [
    {
     "data": {
      "text/plain": [
       "(100, 56)"
      ]
     },
     "execution_count": 386,
     "metadata": {},
     "output_type": "execute_result"
    }
   ],
   "source": [
    "STANDARD_SIZE"
   ]
  },
  {
   "cell_type": "code",
   "execution_count": 399,
   "metadata": {
    "collapsed": false
   },
   "outputs": [],
   "source": [
    "def classify_image(data):\n",
    "    preds = RFC.predict(data)\n",
    "    preds = np.where(preds==1, \"speedlimit\", \"stopsign\")\n",
    "    pred = preds[0]\n",
    "    return {\"image_label\": pred}"
   ]
  },
  {
   "cell_type": "code",
   "execution_count": 400,
   "metadata": {
    "collapsed": false
   },
   "outputs": [],
   "source": [
    "def string_to_img(image_string):\n",
    "    #we need to decode the image from base64\n",
    "    image_string = base64.decodestring(image_string)\n",
    "    #since we're seing this as a JSON string, we use StringIO so it acts like a file\n",
    "    img = StringIO(image_string)\n",
    "    img = PIL.Image.open(img)\n",
    "    img = img.resize(STANDARD_SIZE)\n",
    "    img = list(img.getdata())\n",
    "    img = map(list, img)\n",
    "    img = np.array(img)\n",
    "    s = img.shape[0] * img.shape[1]\n",
    "    img_wide = img.reshape(1, s)\n",
    "    return pca.transform(img_wide[0])"
   ]
  },
  {
   "cell_type": "code",
   "execution_count": null,
   "metadata": {
    "collapsed": false
   },
   "outputs": [],
   "source": []
  },
  {
   "cell_type": "code",
   "execution_count": 401,
   "metadata": {
    "collapsed": false
   },
   "outputs": [
    {
     "name": "stdout",
     "output_type": "stream",
     "text": [
      "{'image_label': 'speedlimit'}\n"
     ]
    }
   ],
   "source": [
    "# i don't have the image data set any more \n",
    "# so just some dummy data to get it to work :(\n",
    "new_image = open(\"./img/speedlimit_18\", 'rb').read()\n",
    "\n",
    "#we need to make the image JSON serializeable\n",
    "new_image = base64.encodestring(new_image)\n",
    "\n",
    "img = string_to_img(new_image)\n",
    "pred = classify_image(img)\n",
    "print pred\n",
    "# yh.predict(\"ImageClassifier\", {\"image_as_base64_string\": new_image})"
   ]
  },
  {
   "cell_type": "code",
   "execution_count": 402,
   "metadata": {
    "collapsed": false
   },
   "outputs": [
    {
     "name": "stdout",
     "output_type": "stream",
     "text": [
      "./img/speedlimit_1\n",
      "{'image_label': 'speedlimit'}\n",
      "./img/speedlimit_10\n",
      "{'image_label': 'speedlimit'}\n",
      "./img/speedlimit_11\n",
      "{'image_label': 'speedlimit'}\n",
      "./img/speedlimit_12\n",
      "{'image_label': 'speedlimit'}\n",
      "./img/speedlimit_13\n",
      "{'image_label': 'speedlimit'}\n",
      "./img/speedlimit_14\n",
      "{'image_label': 'speedlimit'}\n",
      "./img/speedlimit_15\n",
      "{'image_label': 'speedlimit'}\n",
      "./img/speedlimit_16\n",
      "{'image_label': 'speedlimit'}\n",
      "./img/speedlimit_17\n",
      "{'image_label': 'speedlimit'}\n",
      "./img/speedlimit_18\n",
      "{'image_label': 'speedlimit'}\n",
      "./img/speedlimit_19\n",
      "{'image_label': 'speedlimit'}\n",
      "./img/speedlimit_2\n",
      "{'image_label': 'speedlimit'}\n",
      "./img/speedlimit_20\n",
      "{'image_label': 'speedlimit'}\n",
      "./img/speedlimit_21\n",
      "{'image_label': 'speedlimit'}\n",
      "./img/speedlimit_22\n",
      "{'image_label': 'speedlimit'}\n",
      "./img/speedlimit_23\n",
      "{'image_label': 'speedlimit'}\n",
      "./img/speedlimit_24\n",
      "{'image_label': 'speedlimit'}\n",
      "./img/speedlimit_25\n",
      "{'image_label': 'speedlimit'}\n",
      "./img/speedlimit_26\n",
      "{'image_label': 'speedlimit'}\n",
      "./img/speedlimit_27\n",
      "{'image_label': 'speedlimit'}\n",
      "./img/speedlimit_28\n",
      "{'image_label': 'speedlimit'}\n",
      "./img/speedlimit_3\n",
      "{'image_label': 'stopsign'}\n",
      "./img/speedlimit_4\n",
      "{'image_label': 'speedlimit'}\n",
      "./img/speedlimit_5\n",
      "{'image_label': 'speedlimit'}\n",
      "./img/speedlimit_6\n",
      "{'image_label': 'speedlimit'}\n",
      "./img/speedlimit_7\n",
      "{'image_label': 'speedlimit'}\n",
      "./img/speedlimit_8\n",
      "{'image_label': 'speedlimit'}\n",
      "./img/speedlimit_9\n",
      "{'image_label': 'speedlimit'}\n",
      "./img/stopsign_1\n",
      "{'image_label': 'stopsign'}\n",
      "./img/stopsign_10\n",
      "{'image_label': 'stopsign'}\n",
      "./img/stopsign_11\n",
      "{'image_label': 'stopsign'}\n",
      "./img/stopsign_12\n",
      "{'image_label': 'stopsign'}\n",
      "./img/stopsign_13\n",
      "{'image_label': 'stopsign'}\n",
      "./img/stopsign_14\n",
      "{'image_label': 'stopsign'}\n",
      "./img/stopsign_15\n",
      "{'image_label': 'stopsign'}\n",
      "./img/stopsign_16\n",
      "{'image_label': 'stopsign'}\n",
      "./img/stopsign_17\n",
      "{'image_label': 'stopsign'}\n",
      "./img/stopsign_18\n",
      "{'image_label': 'stopsign'}\n",
      "./img/stopsign_19\n",
      "{'image_label': 'stopsign'}\n",
      "./img/stopsign_2\n",
      "{'image_label': 'stopsign'}\n",
      "./img/stopsign_20\n",
      "{'image_label': 'stopsign'}\n",
      "./img/stopsign_21\n",
      "{'image_label': 'stopsign'}\n",
      "./img/stopsign_22\n",
      "{'image_label': 'stopsign'}\n",
      "./img/stopsign_23\n",
      "{'image_label': 'stopsign'}\n",
      "./img/stopsign_24\n",
      "{'image_label': 'stopsign'}\n",
      "./img/stopsign_25\n",
      "{'image_label': 'speedlimit'}\n",
      "./img/stopsign_26\n",
      "{'image_label': 'stopsign'}\n",
      "./img/stopsign_27\n",
      "{'image_label': 'speedlimit'}\n",
      "./img/stopsign_28\n",
      "{'image_label': 'stopsign'}\n",
      "./img/stopsign_3\n",
      "{'image_label': 'stopsign'}\n",
      "./img/stopsign_4\n",
      "{'image_label': 'stopsign'}\n",
      "./img/stopsign_5\n",
      "{'image_label': 'stopsign'}\n",
      "./img/stopsign_6\n",
      "{'image_label': 'stopsign'}\n",
      "./img/stopsign_7\n",
      "{'image_label': 'stopsign'}\n",
      "./img/stopsign_8\n",
      "{'image_label': 'stopsign'}\n",
      "./img/stopsign_9\n",
      "{'image_label': 'stopsign'}\n"
     ]
    }
   ],
   "source": [
    "img_dir = \"./img/\"\n",
    "images = [img_dir+ f for f in os.listdir(img_dir)]\n",
    "labels = [f.split('/')[-1].split('.')[0].split('_')[0] for f in images]\n",
    "\n",
    "data = []\n",
    "for image in images:\n",
    "    new_image = open(image, 'rb').read()\n",
    "\n",
    "    #we need to make the image JSON serializeable\n",
    "    new_image = base64.encodestring(new_image)\n",
    "\n",
    "    img = string_to_img(new_image)\n",
    "    pred = classify_image(img)\n",
    "    print image\n",
    "    print pred"
   ]
  },
  {
   "cell_type": "code",
   "execution_count": null,
   "metadata": {
    "collapsed": true
   },
   "outputs": [],
   "source": []
  },
  {
   "cell_type": "code",
   "execution_count": null,
   "metadata": {
    "collapsed": true
   },
   "outputs": [],
   "source": []
  },
  {
   "cell_type": "code",
   "execution_count": null,
   "metadata": {
    "collapsed": true
   },
   "outputs": [],
   "source": []
  },
  {
   "cell_type": "code",
   "execution_count": null,
   "metadata": {
    "collapsed": true
   },
   "outputs": [],
   "source": []
  }
 ],
 "metadata": {
  "kernelspec": {
   "display_name": "Python 2",
   "language": "python",
   "name": "python2"
  },
  "language_info": {
   "codemirror_mode": {
    "name": "ipython",
    "version": 2
   },
   "file_extension": ".py",
   "mimetype": "text/x-python",
   "name": "python",
   "nbconvert_exporter": "python",
   "pygments_lexer": "ipython2",
   "version": "2.7.10"
  }
 },
 "nbformat": 4,
 "nbformat_minor": 0
}
