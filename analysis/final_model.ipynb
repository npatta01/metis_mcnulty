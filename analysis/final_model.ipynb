{
 "cells": [
  {
   "cell_type": "code",
   "execution_count": 1,
   "metadata": {
    "collapsed": false
   },
   "outputs": [
    {
     "ename": "ImportError",
     "evalue": "No module named helper",
     "output_type": "error",
     "traceback": [
      "\u001b[1;31m---------------------------------------------------------------------------\u001b[0m",
      "\u001b[1;31mImportError\u001b[0m                               Traceback (most recent call last)",
      "\u001b[1;32m<ipython-input-1-a5e89597ea95>\u001b[0m in \u001b[0;36m<module>\u001b[1;34m()\u001b[0m\n\u001b[0;32m     17\u001b[0m \u001b[0mget_ipython\u001b[0m\u001b[1;33m(\u001b[0m\u001b[1;33m)\u001b[0m\u001b[1;33m.\u001b[0m\u001b[0mmagic\u001b[0m\u001b[1;33m(\u001b[0m\u001b[1;34mu'matplotlib inline'\u001b[0m\u001b[1;33m)\u001b[0m\u001b[1;33m\u001b[0m\u001b[0m\n\u001b[0;32m     18\u001b[0m \u001b[1;31m#from helper import *\u001b[0m\u001b[1;33m\u001b[0m\u001b[1;33m\u001b[0m\u001b[0m\n\u001b[1;32m---> 19\u001b[1;33m \u001b[1;32mimport\u001b[0m \u001b[0mhelper\u001b[0m\u001b[1;33m\u001b[0m\u001b[0m\n\u001b[0m\u001b[0;32m     20\u001b[0m \u001b[1;32mfrom\u001b[0m \u001b[0msklearn\u001b[0m\u001b[1;33m.\u001b[0m\u001b[0mpipeline\u001b[0m \u001b[1;32mimport\u001b[0m \u001b[0mFeatureUnion\u001b[0m\u001b[1;33m,\u001b[0m \u001b[0mPipeline\u001b[0m\u001b[1;33m\u001b[0m\u001b[0m\n\u001b[0;32m     21\u001b[0m \u001b[1;32mfrom\u001b[0m \u001b[0msklearn\u001b[0m\u001b[1;33m.\u001b[0m\u001b[0mcross_validation\u001b[0m \u001b[1;32mimport\u001b[0m \u001b[0mStratifiedShuffleSplit\u001b[0m\u001b[1;33m\u001b[0m\u001b[0m\n",
      "\u001b[1;31mImportError\u001b[0m: No module named helper"
     ]
    }
   ],
   "source": [
    "import cv2\n",
    "import numpy as np\n",
    "import os\n",
    "from sklearn.svm import LinearSVC\n",
    "from sklearn.externals import joblib\n",
    "from scipy.cluster.vq import *\n",
    "import seaborn as sns\n",
    "\n",
    "from sklearn.preprocessing import StandardScaler\n",
    "import glob\n",
    "import matplotlib.pyplot as plt\n",
    "import matplotlib.cm as cm\n",
    "import pandas as pd\n",
    "from skimage import data\n",
    "from skimage.feature import hog\n",
    "\n",
    "%matplotlib inline\n",
    "#from helper import *\n",
    "import helper\n",
    "from sklearn.pipeline import FeatureUnion, Pipeline\n",
    "from sklearn.cross_validation import StratifiedShuffleSplit\n",
    "from functools import partial\n",
    "import datetime\n",
    "import pickle"
   ]
  },
  {
   "cell_type": "code",
   "execution_count": 2,
   "metadata": {
    "collapsed": true
   },
   "outputs": [],
   "source": [
    "# sklearn models\n",
    "from sklearn.neighbors import KNeighborsClassifier\n",
    "from sklearn.naive_bayes import GaussianNB\n",
    "from sklearn.svm import SVC\n",
    "from sklearn.svm import LinearSVC\n",
    "from sklearn.tree import DecisionTreeClassifier\n",
    "from sklearn.ensemble import RandomForestClassifier\n",
    "from sklearn import linear_model\n",
    "from sklearn.naive_bayes import BernoulliNB\n",
    "from sklearn.naive_bayes import MultinomialNB\n",
    "from sklearn.preprocessing import scale\n",
    "\n",
    "# sklearn metrics\n",
    "from sklearn.metrics import *\n",
    "from sklearn.learning_curve import learning_curve\n",
    "from sklearn.cross_validation import cross_val_score\n",
    "from sklearn.cross_validation import train_test_split\n",
    "\n",
    "import helper"
   ]
  },
  {
   "cell_type": "code",
   "execution_count": 3,
   "metadata": {
    "collapsed": false
   },
   "outputs": [],
   "source": [
    "%load_ext autoreload\n",
    "%autoreload 2\n",
    "%reload_ext autoreload"
   ]
  },
  {
   "cell_type": "code",
   "execution_count": 4,
   "metadata": {
    "collapsed": true
   },
   "outputs": [],
   "source": [
    "train_folder= 'data/train'\n",
    "train_label='data/trainLabels.csv'"
   ]
  },
  {
   "cell_type": "code",
   "execution_count": 5,
   "metadata": {
    "collapsed": false
   },
   "outputs": [
    {
     "data": {
      "text/plain": [
       "u'/home/jshoun01/Data/kaggle/cifar10'"
      ]
     },
     "execution_count": 5,
     "metadata": {},
     "output_type": "execute_result"
    }
   ],
   "source": [
    "pwd"
   ]
  },
  {
   "cell_type": "code",
   "execution_count": 6,
   "metadata": {
    "collapsed": false
   },
   "outputs": [
    {
     "name": "stdout",
     "output_type": "stream",
     "text": [
      "\u001b[0m\u001b[01;34manalysis\u001b[0m/\r\n",
      "bag_of_words-checkpoint.ipynb\r\n",
      "cookies.txt\r\n",
      "\u001b[01;34mdata\u001b[0m/\r\n",
      "fiinal_model.ipynb\r\n",
      "helper.pyc\r\n",
      "model-checkpoint.ipynb\r\n",
      "OCR for Street View Text - Research-checkpoint.ipynb\r\n",
      "real_model.ipynb\r\n",
      "\u001b[01;34mresults\u001b[0m/\r\n",
      "Untitled3-checkpoint.ipynb\r\n",
      "Xtest.pkl\r\n",
      "Xtrain.pkl\r\n"
     ]
    }
   ],
   "source": [
    "ls"
   ]
  },
  {
   "cell_type": "code",
   "execution_count": 7,
   "metadata": {
    "collapsed": false
   },
   "outputs": [
    {
     "data": {
      "text/html": [
       "<div>\n",
       "<table border=\"1\" class=\"dataframe\">\n",
       "  <thead>\n",
       "    <tr style=\"text-align: right;\">\n",
       "      <th></th>\n",
       "      <th>id</th>\n",
       "      <th>label</th>\n",
       "      <th>filename</th>\n",
       "      <th>full_filename</th>\n",
       "    </tr>\n",
       "  </thead>\n",
       "  <tbody>\n",
       "    <tr>\n",
       "      <th>0</th>\n",
       "      <td>1</td>\n",
       "      <td>frog</td>\n",
       "      <td>1.png</td>\n",
       "      <td>data/train/1.png</td>\n",
       "    </tr>\n",
       "    <tr>\n",
       "      <th>1</th>\n",
       "      <td>2</td>\n",
       "      <td>truck</td>\n",
       "      <td>2.png</td>\n",
       "      <td>data/train/2.png</td>\n",
       "    </tr>\n",
       "    <tr>\n",
       "      <th>2</th>\n",
       "      <td>3</td>\n",
       "      <td>truck</td>\n",
       "      <td>3.png</td>\n",
       "      <td>data/train/3.png</td>\n",
       "    </tr>\n",
       "    <tr>\n",
       "      <th>3</th>\n",
       "      <td>4</td>\n",
       "      <td>deer</td>\n",
       "      <td>4.png</td>\n",
       "      <td>data/train/4.png</td>\n",
       "    </tr>\n",
       "    <tr>\n",
       "      <th>4</th>\n",
       "      <td>5</td>\n",
       "      <td>automobile</td>\n",
       "      <td>5.png</td>\n",
       "      <td>data/train/5.png</td>\n",
       "    </tr>\n",
       "  </tbody>\n",
       "</table>\n",
       "</div>"
      ],
      "text/plain": [
       "  id       label filename     full_filename\n",
       "0  1        frog    1.png  data/train/1.png\n",
       "1  2       truck    2.png  data/train/2.png\n",
       "2  3       truck    3.png  data/train/3.png\n",
       "3  4        deer    4.png  data/train/4.png\n",
       "4  5  automobile    5.png  data/train/5.png"
      ]
     },
     "execution_count": 7,
     "metadata": {},
     "output_type": "execute_result"
    }
   ],
   "source": [
    "all_train_df= helper.get_cifar_training_data(train_folder,train_label)\n",
    "all_train_df.head()"
   ]
  },
  {
   "cell_type": "code",
   "execution_count": 8,
   "metadata": {
    "collapsed": false
   },
   "outputs": [],
   "source": [
    "split_idxes=next(iter(StratifiedShuffleSplit(all_train_df['label'],n_iter =1,test_size=0.30,random_state=20)))\n",
    "train_index, test_index = split_idxes"
   ]
  },
  {
   "cell_type": "code",
   "execution_count": 9,
   "metadata": {
    "collapsed": false
   },
   "outputs": [],
   "source": [
    "features=all_train_df[['id','filename','full_filename']]\n",
    "labels=all_train_df['label']\n"
   ]
  },
  {
   "cell_type": "code",
   "execution_count": 10,
   "metadata": {
    "collapsed": false
   },
   "outputs": [],
   "source": [
    "train_img_gen=helper.load_images(features['full_filename'])"
   ]
  },
  {
   "cell_type": "code",
   "execution_count": 11,
   "metadata": {
    "collapsed": false
   },
   "outputs": [],
   "source": [
    "X_train_df,X_test_df,y_train,y_test= helper.get_stratified_train_test_split(\n",
    "    features,labels)"
   ]
  },
  {
   "cell_type": "code",
   "execution_count": 12,
   "metadata": {
    "collapsed": false
   },
   "outputs": [
    {
     "data": {
      "text/html": [
       "<div>\n",
       "<table border=\"1\" class=\"dataframe\">\n",
       "  <thead>\n",
       "    <tr style=\"text-align: right;\">\n",
       "      <th></th>\n",
       "      <th>id</th>\n",
       "      <th>filename</th>\n",
       "      <th>full_filename</th>\n",
       "    </tr>\n",
       "  </thead>\n",
       "  <tbody>\n",
       "    <tr>\n",
       "      <th>1401</th>\n",
       "      <td>1402</td>\n",
       "      <td>1402.png</td>\n",
       "      <td>data/train/1402.png</td>\n",
       "    </tr>\n",
       "    <tr>\n",
       "      <th>168</th>\n",
       "      <td>169</td>\n",
       "      <td>169.png</td>\n",
       "      <td>data/train/169.png</td>\n",
       "    </tr>\n",
       "    <tr>\n",
       "      <th>46471</th>\n",
       "      <td>46472</td>\n",
       "      <td>46472.png</td>\n",
       "      <td>data/train/46472.png</td>\n",
       "    </tr>\n",
       "    <tr>\n",
       "      <th>37950</th>\n",
       "      <td>37951</td>\n",
       "      <td>37951.png</td>\n",
       "      <td>data/train/37951.png</td>\n",
       "    </tr>\n",
       "    <tr>\n",
       "      <th>26285</th>\n",
       "      <td>26286</td>\n",
       "      <td>26286.png</td>\n",
       "      <td>data/train/26286.png</td>\n",
       "    </tr>\n",
       "  </tbody>\n",
       "</table>\n",
       "</div>"
      ],
      "text/plain": [
       "          id   filename         full_filename\n",
       "1401    1402   1402.png   data/train/1402.png\n",
       "168      169    169.png    data/train/169.png\n",
       "46471  46472  46472.png  data/train/46472.png\n",
       "37950  37951  37951.png  data/train/37951.png\n",
       "26285  26286  26286.png  data/train/26286.png"
      ]
     },
     "execution_count": 12,
     "metadata": {},
     "output_type": "execute_result"
    }
   ],
   "source": [
    "X_train_df.head()"
   ]
  },
  {
   "cell_type": "code",
   "execution_count": 13,
   "metadata": {
    "collapsed": false
   },
   "outputs": [
    {
     "data": {
      "text/html": [
       "<div>\n",
       "<table border=\"1\" class=\"dataframe\">\n",
       "  <thead>\n",
       "    <tr style=\"text-align: right;\">\n",
       "      <th></th>\n",
       "      <th>id</th>\n",
       "      <th>filename</th>\n",
       "      <th>full_filename</th>\n",
       "    </tr>\n",
       "  </thead>\n",
       "  <tbody>\n",
       "    <tr>\n",
       "      <th>39264</th>\n",
       "      <td>39265</td>\n",
       "      <td>39265.png</td>\n",
       "      <td>data/train/39265.png</td>\n",
       "    </tr>\n",
       "    <tr>\n",
       "      <th>18869</th>\n",
       "      <td>18870</td>\n",
       "      <td>18870.png</td>\n",
       "      <td>data/train/18870.png</td>\n",
       "    </tr>\n",
       "    <tr>\n",
       "      <th>11313</th>\n",
       "      <td>11314</td>\n",
       "      <td>11314.png</td>\n",
       "      <td>data/train/11314.png</td>\n",
       "    </tr>\n",
       "    <tr>\n",
       "      <th>26085</th>\n",
       "      <td>26086</td>\n",
       "      <td>26086.png</td>\n",
       "      <td>data/train/26086.png</td>\n",
       "    </tr>\n",
       "    <tr>\n",
       "      <th>22976</th>\n",
       "      <td>22977</td>\n",
       "      <td>22977.png</td>\n",
       "      <td>data/train/22977.png</td>\n",
       "    </tr>\n",
       "  </tbody>\n",
       "</table>\n",
       "</div>"
      ],
      "text/plain": [
       "          id   filename         full_filename\n",
       "39264  39265  39265.png  data/train/39265.png\n",
       "18869  18870  18870.png  data/train/18870.png\n",
       "11313  11314  11314.png  data/train/11314.png\n",
       "26085  26086  26086.png  data/train/26086.png\n",
       "22976  22977  22977.png  data/train/22977.png"
      ]
     },
     "execution_count": 13,
     "metadata": {},
     "output_type": "execute_result"
    }
   ],
   "source": [
    "X_test_df.head()"
   ]
  },
  {
   "cell_type": "code",
   "execution_count": 14,
   "metadata": {
    "collapsed": true
   },
   "outputs": [],
   "source": [
    "cch_1= helper.ColorChannelStatistics(sub_regions=1)\n",
    "cch_2= helper.ColorChannelStatistics(sub_regions=2)\n",
    "cch_4= helper.ColorChannelStatistics(sub_regions=4)\n",
    "\n",
    "cc_pipeline = FeatureUnion([(\"cch_1\", cch_1),(\"cch_2\", cch_2),(\"cch_4\", cch_4)])\n",
    "hog_pipeline= Pipeline([(\"gt\", helper.GrayScaleImageTransform())\n",
    "                        ,(\"ht\", helper.HogStatistics())])"
   ]
  },
  {
   "cell_type": "code",
   "execution_count": 15,
   "metadata": {
    "collapsed": false
   },
   "outputs": [],
   "source": [
    "train_img_gen=helper.load_images(X_train_df['full_filename'])\n",
    "test_img_gen=helper.load_images(X_test_df['full_filename'])\n"
   ]
  },
  {
   "cell_type": "code",
   "execution_count": 16,
   "metadata": {
    "collapsed": false
   },
   "outputs": [],
   "source": [
    "feature_extractors=[cc_pipeline,hog_pipeline]\n",
    "#X_train=helper.extract_image_features(train_img_gen,feature_extractors)\n",
    "#X_test=helper.extract_image_features(test_img_gen,feature_extractors)\n"
   ]
  },
  {
   "cell_type": "code",
   "execution_count": null,
   "metadata": {
    "collapsed": false
   },
   "outputs": [],
   "source": []
  },
  {
   "cell_type": "code",
   "execution_count": 17,
   "metadata": {
    "collapsed": false
   },
   "outputs": [
    {
     "name": "stdout",
     "output_type": "stream",
     "text": [
      "2015-08-06 14:45:09.628323\n",
      "2015-08-06 14:55:07.608566\n"
     ]
    }
   ],
   "source": [
    "print(datetime.datetime.now())\n",
    "X_train=helper.extract_multiple_image_features(feature_extractors,X_train_df['full_filename'])\n",
    "print(datetime.datetime.now())"
   ]
  },
  {
   "cell_type": "code",
   "execution_count": 18,
   "metadata": {
    "collapsed": false
   },
   "outputs": [
    {
     "name": "stdout",
     "output_type": "stream",
     "text": [
      "2015-08-06 14:55:07.634759\n",
      "2015-08-06 14:59:39.656083\n"
     ]
    }
   ],
   "source": [
    "print(datetime.datetime.now())\n",
    "X_test=helper.extract_multiple_image_features(feature_extractors,X_test_df['full_filename'])\n",
    "print(datetime.datetime.now())"
   ]
  },
  {
   "cell_type": "code",
   "execution_count": 19,
   "metadata": {
    "collapsed": false
   },
   "outputs": [],
   "source": [
    "pickle.dump(X_train,open('Xtrain.pkl',\"wb\"))\n",
    "pickle.dump(X_test,open('Xtest.pkl',\"wb\"))"
   ]
  },
  {
   "cell_type": "code",
   "execution_count": 20,
   "metadata": {
    "collapsed": true
   },
   "outputs": [],
   "source": [
    "X_train = pickle.load(open('Xtrain.pkl',\"rb\"))\n",
    "X_test = pickle.load(open('Xtest.pkl',\"rb\"))"
   ]
  },
  {
   "cell_type": "code",
   "execution_count": 21,
   "metadata": {
    "collapsed": false
   },
   "outputs": [
    {
     "data": {
      "text/plain": [
       "35000"
      ]
     },
     "execution_count": 21,
     "metadata": {},
     "output_type": "execute_result"
    }
   ],
   "source": [
    "len(X_train)"
   ]
  },
  {
   "cell_type": "code",
   "execution_count": 22,
   "metadata": {
    "collapsed": false
   },
   "outputs": [
    {
     "data": {
      "text/plain": [
       "array([[  7.75830078e+01,   4.24613904e+01,   9.44482422e+01,\n",
       "          4.64459874e+01,   8.43085938e+01,   5.09237950e+01,\n",
       "          8.41171875e+01,   3.33083654e+01,   1.02320312e+02,\n",
       "          4.55013622e+01,   5.87500000e+01,   3.96352510e+01,\n",
       "          6.51445312e+01,   3.60149520e+01,   1.02378906e+02,\n",
       "          3.66605121e+01,   1.24386719e+02,   5.48591490e+01,\n",
       "          6.92031250e+01,   3.46465094e+01,   8.18242188e+01,\n",
       "          3.63198191e+01,   8.42851562e+01,   3.60299454e+01,\n",
       "          1.08230469e+02,   5.10742949e+01,   6.93554688e+01,\n",
       "          5.44265077e+01,   7.53632812e+01,   5.12647545e+01,\n",
       "          1.18562500e+02,   2.43149099e+01,   4.68750000e+01,\n",
       "          2.02403526e+01,   7.54375000e+01,   4.18519993e+01,\n",
       "          3.47812500e+01,   1.28749621e+01,   1.08953125e+02,\n",
       "          4.30226792e+01,   5.27500000e+01,   3.36976446e+01,\n",
       "          8.55156250e+01,   2.97184666e+01,   8.74218750e+01,\n",
       "          3.15276687e+01,   1.17468750e+02,   3.56339764e+01,\n",
       "          1.45109375e+02,   2.48835520e+01,   6.11406250e+01,\n",
       "          1.89562549e+01,   6.93437500e+01,   2.34448947e+01,\n",
       "          7.76093750e+01,   2.53584411e+01,   6.90937500e+01,\n",
       "          4.44348958e+01,   4.01718750e+01,   1.34832705e+01,\n",
       "          5.10937500e+01,   2.42214515e+01,   1.43312500e+02,\n",
       "          3.57070874e+01,   5.81718750e+01,   2.16235944e+01,\n",
       "          9.33437500e+01,   4.10473122e+01,   5.07187500e+01,\n",
       "          1.83537026e+01,   1.12031250e+02,   3.17858895e+01,\n",
       "          6.90156250e+01,   3.01457357e+01,   1.06765625e+02,\n",
       "          2.71481711e+01,   1.03203125e+02,   2.79677156e+01,\n",
       "          1.35953125e+02,   4.02439552e+01,   1.88015625e+02,\n",
       "          3.12102208e+01,   7.73593750e+01,   1.99125959e+01,\n",
       "          8.56406250e+01,   1.84360103e+01,   8.96406250e+01,\n",
       "          2.13675917e+01,   8.39375000e+01,   4.42947778e+01,\n",
       "          4.94375000e+01,   1.74211393e+01,   6.46250000e+01,\n",
       "          2.37332178e+01,   1.24937500e+02,   2.75322964e+01,\n",
       "          4.33593750e+01,   2.34056398e+01,   8.83593750e+01,\n",
       "          5.84688398e+01,   3.97968750e+01,   1.68895120e+01,\n",
       "          1.40234375e+02,   5.90248206e+01,   6.08750000e+01,\n",
       "          4.35084403e+01,   1.08859375e+02,   4.61285118e+01,\n",
       "          8.58125000e+01,   2.96394348e+01,   1.19093750e+02,\n",
       "          3.34443188e+01,   1.60859375e+02,   2.76455620e+01,\n",
       "          5.99687500e+01,   2.08108811e+01,   6.64218750e+01,\n",
       "          2.36152789e+01,   7.30781250e+01,   2.57920195e+01,\n",
       "          7.98906250e+01,   5.44027565e+01,   3.69218750e+01,\n",
       "          1.18510346e+01,   6.04687500e+01,   3.01812073e+01,\n",
       "          1.03157583e-02,   2.40771460e-03,   2.04702753e-02,\n",
       "          2.04318704e-02,   2.84984009e-02,   1.23601667e-02,\n",
       "          4.77194349e-03,   3.55667655e-03,   7.96055020e-03,\n",
       "          9.65595782e-03,   8.76116229e-03,   1.02417977e-02,\n",
       "          2.77749821e-02,   1.29617980e-02,   1.07058235e-02,\n",
       "          1.23636457e-03,   8.10983344e-03,   1.30340654e-02,\n",
       "          8.39276071e-03,   4.45928438e-03,   6.98242431e-04,\n",
       "          1.68452686e-03,   2.36799909e-03,   3.53713604e-02,\n",
       "          2.72403662e-02,   2.26165340e-02,   1.32224111e-02,\n",
       "          7.49091807e-03,   2.22589511e-02,   1.39057227e-02,\n",
       "          1.60536049e-02,   3.95008578e-02,   9.79739579e-03,\n",
       "          5.48113861e-03,   1.53647726e-03,   6.56624292e-03,\n",
       "          6.08950392e-03,   1.11012518e-02,   1.16585179e-02,\n",
       "          2.20366414e-02,   1.03958702e-02,   2.73425836e-02,\n",
       "          5.09882461e-03,   3.85210490e-03,   4.96023795e-03,\n",
       "          1.66848695e-02,   7.61678823e-03,   1.07072681e-02,\n",
       "          1.78551490e-02,   1.89678657e-02,   2.26321098e-02,\n",
       "          1.81010936e-02,   6.14037719e-03,   7.33730907e-03,\n",
       "          5.58496416e-03,   2.40163169e-03,   4.15538911e-03,\n",
       "          1.01574607e-02,   1.41778670e-02,   9.01897602e-03,\n",
       "          8.72911365e-03,   7.12322063e-03,   4.40434844e-03,\n",
       "          6.72220472e-03,   1.00588710e-02,   4.51566140e-03,\n",
       "          4.06023759e-02,   2.59339184e-02,   3.49984061e-02,\n",
       "          1.10930591e-02,   9.61348602e-03,   3.26778839e-03,\n",
       "          9.95810444e-03,   1.46458520e-02,   1.50611887e-02,\n",
       "          9.42280981e-03,   2.40050048e-02,   9.66473909e-03,\n",
       "          1.29762822e-02,   8.08125652e-03,   3.14771763e-03,\n",
       "          8.11975565e-03,   7.36731646e-03,   8.61239206e-03,\n",
       "          2.33561570e-02,   1.08996574e-02,   9.00259433e-03,\n",
       "          1.03966674e-03,   6.81960993e-03,   1.09604276e-02,\n",
       "          7.05752525e-03,   3.74984028e-03,   5.87156451e-04,\n",
       "          1.41652923e-03,   1.99126532e-03,   2.97439993e-02,\n",
       "          2.29065952e-02,   1.90183857e-02,   1.11188087e-02,\n",
       "          4.07324317e-03,   6.47372450e-03,   4.99077643e-03,\n",
       "          6.60457305e-03,   1.77325320e-02,   1.37826598e-02,\n",
       "          1.80459878e-02,   1.02675697e-02,   6.06634415e-03,\n",
       "          5.12070213e-03,   9.33511245e-03,   9.80372097e-03,\n",
       "          1.85307503e-02,   8.74195264e-03,   2.29925505e-02,\n",
       "          4.28763367e-03,   3.23925923e-03,   4.17109528e-03,\n",
       "          1.40304117e-02,   6.40500512e-03,   9.00380909e-03,\n",
       "          1.50145071e-02,   1.59501976e-02,   1.90314834e-02,\n",
       "          1.52213234e-02,   5.16348179e-03,   6.16998933e-03,\n",
       "          1.77828612e-02,   1.28981746e-02,   2.30730238e-02,\n",
       "          1.51739522e-03,   3.77385110e-02,   1.40676814e-02,\n",
       "          6.02348806e-02,   2.35708397e-02,   1.05665389e-02,\n",
       "          5.65274421e-03,   8.45856788e-03,   3.79724806e-03,\n",
       "          3.41427932e-02,   2.18079951e-02,   2.94303797e-02,\n",
       "          9.32822315e-03,   8.08404084e-03,   2.74790380e-03,\n",
       "          8.37383264e-03,   1.23157891e-02,   1.26650483e-02,\n",
       "          7.92370002e-03,   2.01859595e-02,   8.12713987e-03,\n",
       "          1.09118373e-02,   6.79557942e-03,   2.64693555e-03,\n",
       "          4.16830365e-02,   1.75039443e-02,   1.24968621e-03,\n",
       "          1.80498867e-03,   1.87622423e-02,   3.80700067e-03,\n",
       "          2.06459115e-03,   2.87059533e-03,   3.13902123e-02,\n",
       "          6.60960921e-03,   1.96401785e-02,   1.22697101e-02,\n",
       "          1.41648933e-02,   3.48535695e-02,   8.64472910e-03,\n",
       "          4.83628094e-03,   1.35571023e-03,   5.79372238e-03,\n",
       "          5.37307187e-03,   9.79518606e-03,   1.02868896e-02,\n",
       "          1.94440236e-02,   9.17279283e-03,   2.41257201e-02,\n",
       "          4.49894630e-03,   3.39890355e-03,   4.37666440e-03,\n",
       "          1.47218894e-02,   6.72067071e-03,   9.44755467e-03,\n",
       "          1.57544851e-02,   1.67362904e-02,   1.99694350e-02,\n",
       "          1.59714942e-02,   5.41795989e-03,   6.47407235e-03,\n",
       "          4.92789138e-03,   2.11907896e-03,   3.66650628e-03,\n",
       "          8.96243226e-03,   1.25098365e-02,   7.95789067e-03,\n",
       "          7.70213069e-03,   6.28517149e-03,   3.88617547e-03,\n",
       "          5.93133522e-03,   8.87544169e-03,   3.98439242e-03,\n",
       "          3.58254936e-02,   2.28827848e-02,   3.08808326e-02,\n",
       "          9.78795722e-03,   8.48245637e-03,   2.88333206e-03,\n",
       "          8.78653033e-03,   1.29227630e-02,   1.32892351e-02,\n",
       "          8.31421328e-03,   2.11808085e-02,   8.52767950e-03,\n",
       "          1.14496185e-02,   7.13049416e-03,   2.77738766e-03,\n",
       "          2.41027810e-02,   1.39906686e-02,   4.29568939e-03,\n",
       "          5.48452728e-04,   3.98902756e-03,   1.53606063e-03,\n",
       "          7.09311401e-03,   1.46674655e-02,   1.55542194e-02,\n",
       "          3.48677960e-02,   1.11585538e-02,   4.14028958e-02,\n",
       "          4.02340917e-02,   2.20842672e-02,   8.96848939e-03,\n",
       "         -8.21557843e-19,   1.18169892e-02,   2.47767522e-02,\n",
       "          1.62286642e-02,   2.37868342e-02,   4.39881592e-02,\n",
       "          2.81418985e-02,   1.70128429e-03,   5.17086191e-04,\n",
       "          2.54963346e-03,   5.17086191e-04,   9.69771642e-03,\n",
       "          4.53866985e-03,   8.27405935e-03,   8.68940462e-03,\n",
       "          1.64244972e-02,   7.74831963e-03,   2.03791576e-02,\n",
       "          3.80029011e-03,   2.87107662e-03,   3.69699777e-03,\n",
       "          1.24356787e-02,   5.67699562e-03,   7.98041279e-03,\n",
       "          1.33079192e-02,   1.41372567e-02,   1.68683156e-02,\n",
       "          1.34912283e-02,   4.57658706e-03,   5.46869234e-03,\n",
       "          1.57616151e-02,   1.14321346e-02,   2.04504841e-02,\n",
       "          1.34492414e-03,   3.34490539e-02,   1.24687122e-02,\n",
       "          5.33884279e-02,   2.08917169e-02,   9.36551866e-03,\n",
       "          5.01023864e-03,   7.49714512e-03,   3.36564300e-03,\n",
       "          3.02620347e-02,   1.93292418e-02,   2.60852464e-02,\n",
       "          8.26795311e-03,   7.16518779e-03,   2.43556993e-03,\n",
       "          7.42204110e-03,   1.09159445e-02,   1.12255060e-02,\n",
       "          7.02307172e-03,   1.78915710e-02,   7.20338807e-03,\n",
       "          9.67156956e-03,   6.02317624e-03,   2.34607799e-03,\n",
       "          3.69452344e-02,   1.55144006e-02,   1.10764364e-03,\n",
       "          1.59982898e-03,   1.66296772e-02,   3.37428710e-03,\n",
       "          1.82992436e-03,   2.54431602e-03,   2.78223193e-02,\n",
       "          2.94530611e-02,   9.42570526e-03,   3.49733038e-02,\n",
       "          3.39860071e-02,   1.86547287e-02,   7.57574314e-03,\n",
       "         -6.93975420e-19,   9.98189001e-03,   2.09290887e-02,\n",
       "          1.37084615e-02,   2.00928984e-02,   3.71570931e-02,\n",
       "          2.37716504e-02,   1.43708625e-03,   4.36786173e-04,\n",
       "          2.15369248e-03,   4.36786173e-04,   8.19172610e-03,\n",
       "          1.27350183e-02,   2.03722079e-02,   9.85621579e-03,\n",
       "          6.84117771e-03,   1.51525793e-02,   4.46016161e-03,\n",
       "          2.03762037e-03,   5.21573970e-03,   5.53718599e-03]])"
      ]
     },
     "execution_count": 22,
     "metadata": {},
     "output_type": "execute_result"
    }
   ],
   "source": [
    "X_train[0]"
   ]
  },
  {
   "cell_type": "code",
   "execution_count": 23,
   "metadata": {
    "collapsed": false
   },
   "outputs": [],
   "source": [
    "X_train_simp=map(lambda x:x[0], X_train)\n",
    "X_test_simp=map(lambda x:x[0], X_test)"
   ]
  },
  {
   "cell_type": "code",
   "execution_count": 24,
   "metadata": {
    "collapsed": false
   },
   "outputs": [],
   "source": [
    "models = {'K-Nearest Neighbors': KNeighborsClassifier(n_neighbors=5), \n",
    "          'Gaussian Naive Bayes': GaussianNB(),\n",
    "          'Random Forest Classifier': RandomForestClassifier()\n",
    "          \n",
    "         }"
   ]
  },
  {
   "cell_type": "code",
   "execution_count": 25,
   "metadata": {
    "collapsed": false
   },
   "outputs": [
    {
     "name": "stdout",
     "output_type": "stream",
     "text": [
      "\u001b[0m\u001b[01;34manalysis\u001b[0m/\r\n",
      "bag_of_words-checkpoint.ipynb\r\n",
      "cookies.txt\r\n",
      "\u001b[01;34mdata\u001b[0m/\r\n",
      "fiinal_model.ipynb\r\n",
      "helper.pyc\r\n",
      "model-checkpoint.ipynb\r\n",
      "OCR for Street View Text - Research-checkpoint.ipynb\r\n",
      "real_model.ipynb\r\n",
      "\u001b[01;34mresults\u001b[0m/\r\n",
      "Untitled3-checkpoint.ipynb\r\n",
      "Xtest.pkl\r\n",
      "Xtrain.pkl\r\n"
     ]
    }
   ],
   "source": [
    "ls"
   ]
  },
  {
   "cell_type": "code",
   "execution_count": 26,
   "metadata": {
    "collapsed": false
   },
   "outputs": [],
   "source": [
    "knn_model = KNeighborsClassifier(n_neighbors=5).fit(X_train_simp, y_train)\n"
   ]
  },
  {
   "cell_type": "code",
   "execution_count": 28,
   "metadata": {
    "collapsed": false
   },
   "outputs": [
    {
     "data": {
      "text/plain": [
       "<module 'helper' from 'helper.pyc'>"
      ]
     },
     "execution_count": 28,
     "metadata": {},
     "output_type": "execute_result"
    }
   ],
   "source": [
    "helper."
   ]
  },
  {
   "cell_type": "code",
   "execution_count": null,
   "metadata": {
    "collapsed": false
   },
   "outputs": [],
   "source": [
    "helper.plot_confusion_matrix"
   ]
  },
  {
   "cell_type": "code",
   "execution_count": null,
   "metadata": {
    "collapsed": false
   },
   "outputs": [],
   "source": [
    "helper.plot_confusion_matrix(knn_model,y_test,X_test_simp)"
   ]
  },
  {
   "cell_type": "code",
   "execution_count": null,
   "metadata": {
    "collapsed": true
   },
   "outputs": [],
   "source": [
    "y_predicted=model.predict(X_test_simp)"
   ]
  },
  {
   "cell_type": "code",
   "execution_count": null,
   "metadata": {
    "collapsed": false
   },
   "outputs": [],
   "source": [
    "label_names = model.classes_\n",
    "cm = confusion_matrix(y_test, y_predicted)\n",
    "cm = np.round(cm.astype('float') / cm.sum(axis=1)[:, np.newaxis], 2)\n",
    "sns.heatmap(cm,  annot=True,  fmt='', xticklabels=label_names, yticklabels=label_names);\n",
    "print(accuracy_score(y_test, y_predicted))\n"
   ]
  },
  {
   "cell_type": "code",
   "execution_count": null,
   "metadata": {
    "collapsed": true
   },
   "outputs": [],
   "source": [
    "gm_model=GaussianNB().fit(X_train_simp, y_train)\n",
    "helper.plot_confusion_matrix(y_test,X_train_simp)"
   ]
  },
  {
   "cell_type": "code",
   "execution_count": null,
   "metadata": {
    "collapsed": false
   },
   "outputs": [],
   "source": [
    "gm_model=GaussianNB().fit(X_train_simp, y_train)\n",
    "helper.plot_confusion_matrix(y_test,X_train_simp)\n",
    "y_predicted=model.predict(X_test_simp)\n",
    "label_names = model.classes_\n",
    "cm = confusion_matrix(y_test, y_predicted)\n",
    "sns.heatmap(cm, annot=True,fmt='', xticklabels=label_names, yticklabels=label_names);\n",
    "print(accuracy_score(y_test, y_predicted))\n",
    "#print(roc_auc_score(y_test, y_predicted))"
   ]
  },
  {
   "cell_type": "code",
   "execution_count": null,
   "metadata": {
    "collapsed": false
   },
   "outputs": [],
   "source": [
    "model=RandomForestClassifier().fit(X_train_simp, y_train)\n",
    "y_predicted=model.predict(X_test_simp)\n",
    "label_names = model.  \n",
    "cm = confusion_matrix(y_test, y_predicted)\n",
    "sns.heatmap(cm, annot=True,  fmt='', xticklabels=label_names, yticklabels=label_names);\n",
    "print(accuracy_score(y_test, y_predicted))\n",
    "#print(roc_auc_score(y_test, y_predicted))"
   ]
  },
  {
   "cell_type": "code",
   "execution_count": null,
   "metadata": {
    "collapsed": false
   },
   "outputs": [],
   "source": [
    "model=BernoulliNB().fit(X_train_simp, y_train)\n",
    "y_predicted=model.predict(X_test_simp)\n",
    "label_names = model.classes_\n",
    "cm = confusion_matrix(y_test, y_predicted)\n",
    "sns.heatmap(cm, annot=True,  fmt='', xticklabels=label_names, yticklabels=label_names);\n",
    "print(accuracy_score(y_test, y_predicted))\n",
    "#print(roc_auc_score(y_test, y_predicted))"
   ]
  },
  {
   "cell_type": "code",
   "execution_count": null,
   "metadata": {
    "collapsed": false
   },
   "outputs": [],
   "source": [
    "model=SVC().fit(X_train_simp, y_train)\n",
    "y_predicted=model.predict(X_test_simp)\n",
    "label_names = model.classes_\n",
    "cm = confusion_matrix(y_test, y_predicted)\n",
    "sns.heatmap(cm, annot=True,  fmt='', xticklabels=label_names, yticklabels=label_names);\n",
    "print(accuracy_score(y_test, y_predicted))\n",
    "#print(roc_auc_score(y_test, y_predicted))"
   ]
  },
  {
   "cell_type": "code",
   "execution_count": null,
   "metadata": {
    "collapsed": true
   },
   "outputs": [],
   "source": []
  },
  {
   "cell_type": "code",
   "execution_count": null,
   "metadata": {
    "collapsed": true
   },
   "outputs": [],
   "source": []
  }
 ],
 "metadata": {
  "kernelspec": {
   "display_name": "Python 2",
   "language": "python",
   "name": "python2"
  },
  "language_info": {
   "codemirror_mode": {
    "name": "ipython",
    "version": 2
   },
   "file_extension": ".py",
   "mimetype": "text/x-python",
   "name": "python",
   "nbconvert_exporter": "python",
   "pygments_lexer": "ipython2",
   "version": "2.7.6"
  }
 },
 "nbformat": 4,
 "nbformat_minor": 0
}
