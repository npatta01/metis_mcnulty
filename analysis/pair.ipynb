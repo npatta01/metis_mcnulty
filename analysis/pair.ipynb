{
 "cells": [
  {
   "cell_type": "code",
   "execution_count": 45,
   "metadata": {
    "collapsed": true
   },
   "outputs": [],
   "source": [
    "my_list= [1,2,3,-1] #1 -3\n",
    "my_list2= [1,2,3,-1,8,4] #8\n",
    "my_list3= [1,2,3,-10,7] \n",
    "data = [-2,1,2,3,-1,0,100,-101,50]"
   ]
  },
  {
   "cell_type": "code",
   "execution_count": 58,
   "metadata": {
    "collapsed": false
   },
   "outputs": [],
   "source": [
    "def max_sequence(mylist):\n",
    "    sums = mylist[0]\n",
    "    starting_idx=0\n",
    "    ending_idx=0\n",
    "    val_sums=[sums]\n",
    "    option='option1'\n",
    "    current_i=starting_idx\n",
    "    max_sum=sums\n",
    "    for idx in range(1,len(mylist)):\n",
    "        current_elem = mylist[idx]\n",
    "        \n",
    "        if current_elem > sums+ current_elem: # include just current elem\n",
    "            starting_idx = idx\n",
    "            ending_idx = idx\n",
    "            sums = current_elem\n",
    "            option='option1'\n",
    "            max_sums=sums\n",
    "        else: # include everything and current elem\n",
    "            if max_sums >= sums+ current_elem:\n",
    "                ending_idx=idx\n",
    "                max_sums=sums\n",
    "            sums = current_elem+sums\n",
    "            option='option2'\n",
    "            \n",
    "        val_sums.append(sums)\n",
    "      \n",
    "        print starting_idx,ending_idx, sums,val_sums,option\n",
    "            \n",
    "    return starting_idx,ending_idx"
   ]
  },
  {
   "cell_type": "code",
   "execution_count": 48,
   "metadata": {
    "collapsed": false
   },
   "outputs": [
    {
     "name": "stdout",
     "output_type": "stream",
     "text": [
      "0 1 3 [1, 3] option2\n",
      "0 2 6 [1, 3, 6] option2\n",
      "0 3 5 [1, 3, 6, 5] option2\n"
     ]
    },
    {
     "data": {
      "text/plain": [
       "(0, 3)"
      ]
     },
     "execution_count": 48,
     "metadata": {},
     "output_type": "execute_result"
    }
   ],
   "source": [
    "max_sequence(my_list)"
   ]
  },
  {
   "cell_type": "code",
   "execution_count": 49,
   "metadata": {
    "collapsed": false
   },
   "outputs": [
    {
     "name": "stdout",
     "output_type": "stream",
     "text": [
      "0 1 3 [1, 3] option2\n",
      "0 2 6 [1, 3, 6] option2\n",
      "0 3 5 [1, 3, 6, 5] option2\n",
      "0 4 13 [1, 3, 6, 5, 13] option2\n",
      "0 5 17 [1, 3, 6, 5, 13, 17] option2\n"
     ]
    },
    {
     "data": {
      "text/plain": [
       "(0, 5)"
      ]
     },
     "execution_count": 49,
     "metadata": {},
     "output_type": "execute_result"
    }
   ],
   "source": [
    "max_sequence(my_list2)"
   ]
  },
  {
   "cell_type": "code",
   "execution_count": 50,
   "metadata": {
    "collapsed": false
   },
   "outputs": [
    {
     "name": "stdout",
     "output_type": "stream",
     "text": [
      "0 1 3 [1, 3] option2\n",
      "0 2 6 [1, 3, 6] option2\n",
      "0 3 -4 [1, 3, 6, -4] option2\n",
      "4 4 7 [1, 3, 6, -4, 7] option1\n"
     ]
    },
    {
     "data": {
      "text/plain": [
       "(4, 4)"
      ]
     },
     "execution_count": 50,
     "metadata": {},
     "output_type": "execute_result"
    }
   ],
   "source": [
    "max_sequence(my_list3)"
   ]
  },
  {
   "cell_type": "code",
   "execution_count": 59,
   "metadata": {
    "collapsed": false
   },
   "outputs": [
    {
     "name": "stdout",
     "output_type": "stream",
     "text": [
      "1 1 1 [-2, 1] option1\n",
      "1 1 3 [-2, 1, 3] option2\n",
      "1 1 6 [-2, 1, 3, 6] option2\n",
      "1 1 5 [-2, 1, 3, 6, 5] option2\n",
      "1 1 5 [-2, 1, 3, 6, 5, 5] option2\n",
      "1 1 105 [-2, 1, 3, 6, 5, 5, 105] option2\n",
      "1 1 4 [-2, 1, 3, 6, 5, 5, 105, 4] option2\n",
      "1 1 54 [-2, 1, 3, 6, 5, 5, 105, 4, 54] option2\n"
     ]
    },
    {
     "data": {
      "text/plain": [
       "(1, 1)"
      ]
     },
     "execution_count": 59,
     "metadata": {},
     "output_type": "execute_result"
    }
   ],
   "source": [
    "max_sequence(data)"
   ]
  },
  {
   "cell_type": "code",
   "execution_count": null,
   "metadata": {
    "collapsed": true
   },
   "outputs": [],
   "source": []
  }
 ],
 "metadata": {
  "kernelspec": {
   "display_name": "Python 2",
   "language": "python",
   "name": "python2"
  },
  "language_info": {
   "codemirror_mode": {
    "name": "ipython",
    "version": 2
   },
   "file_extension": ".py",
   "mimetype": "text/x-python",
   "name": "python",
   "nbconvert_exporter": "python",
   "pygments_lexer": "ipython2",
   "version": "2.7.10"
  }
 },
 "nbformat": 4,
 "nbformat_minor": 0
}
